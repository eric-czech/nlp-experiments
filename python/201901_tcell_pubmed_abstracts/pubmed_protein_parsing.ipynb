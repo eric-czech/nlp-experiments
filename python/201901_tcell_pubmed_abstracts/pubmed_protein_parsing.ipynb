{
 "cells": [
  {
   "cell_type": "code",
   "execution_count": 32,
   "metadata": {},
   "outputs": [],
   "source": [
    "%run utils.py\n",
    "import os.path as osp\n",
    "import os\n",
    "import pandas as pd\n",
    "data_dir = '/Users/eczech/tmp/nlp/data'\n",
    "input_file = 'pubmed_abstracts.csv'"
   ]
  },
  {
   "cell_type": "code",
   "execution_count": 30,
   "metadata": {},
   "outputs": [
    {
     "name": "stdout",
     "output_type": "stream",
     "text": [
      "<class 'pandas.core.frame.DataFrame'>\n",
      "Int64Index: 46580 entries, 0 to 52173\n",
      "Data columns (total 5 columns):\n",
      "abstract    46580 non-null object\n",
      "date        17852 non-null object\n",
      "id          46580 non-null int64\n",
      "terms       46580 non-null object\n",
      "title       46580 non-null object\n",
      "dtypes: int64(1), object(4)\n",
      "memory usage: 2.1+ MB\n"
     ]
    }
   ],
   "source": [
    "df = pd.read_csv(osp.join(data_dir, input_file))\n",
    "df = df[df['abstract'].notnull() & df['title'].notnull()]\n",
    "df.info()"
   ]
  },
  {
   "cell_type": "code",
   "execution_count": 40,
   "metadata": {},
   "outputs": [],
   "source": [
    "tmp_input_file = '/tmp/d3ner_pubmed_input.txt'\n",
    "tmp_output_file = osp.join(data_dir, 'd3ner_pubmed_output.txt')\n",
    "if osp.exists(tmp_input_file):\n",
    "    os.remove(tmp_input_file)\n",
    "if osp.exists(tmp_output_file):\n",
    "    os.remove(tmp_output_file)\n",
    "    \n",
    "def prep(text):\n",
    "    text = re.sub('\\\\<(sup|sub)\\\\>([a-zA-Z+-]*)\\\\</(sup|sub)>', '\\\\2 ', text)\n",
    "    text = re.sub('[tT]\\\\-([cC]ell[s]*|[lL]ymphocyte[s]*)', 'T \\\\1', text)\n",
    "    return text.replace('\\n', ' ').replace('\\r', '')\n",
    "\n",
    "with open(tmp_input_file, 'w') as fd:\n",
    "    for i, r in df.iterrows():\n",
    "        fd.write('{}|t|{}\\n'.format(r['id'], prep(r['title'])))\n",
    "        fd.write('{}|a|{}\\n\\n'.format(r['id'], prep(r['abstract'])))"
   ]
  },
  {
   "cell_type": "code",
   "execution_count": 41,
   "metadata": {},
   "outputs": [
    {
     "name": "stdout",
     "output_type": "stream",
     "text": [
      "/Users/eczech/anaconda3/envs/d3ner2/lib/python3.6/importlib/_bootstrap.py:219: RuntimeWarning: compiletime version 3.5 of module 'tensorflow.python.framework.fast_tensor_util' does not match runtime version 3.6\n",
      "  return f(*args, **kwds)\n",
      "Using TensorFlow backend.\n",
      "2019-01-30 15:07:37.534926: I tensorflow/core/platform/cpu_feature_guard.cc:137] Your CPU supports instructions that this TensorFlow binary was not compiled to use: SSE4.1 SSE4.2 AVX AVX2 FMA\n",
      "Load NER model finished\n",
      "[I] Load SpaCy started.\n",
      "[I] Load SpaCy finished in 9.706 s.\n"
     ]
    }
   ],
   "source": [
    "!cd /Users/eczech/repos/misc/python/D3NER; /Users/eczech/anaconda3/envs/d3ner2/bin/python main.pyc d3ner_fsu fsu_prge $tmp_input_file $tmp_output_file"
   ]
  },
  {
   "cell_type": "code",
   "execution_count": 43,
   "metadata": {},
   "outputs": [],
   "source": [
    "reader = BioCreativeReader(tmp_output_file)"
   ]
  },
  {
   "cell_type": "code",
   "execution_count": 45,
   "metadata": {},
   "outputs": [
    {
     "data": {
      "text/plain": [
       "41071"
      ]
     },
     "execution_count": 45,
     "metadata": {},
     "output_type": "execute_result"
    }
   ],
   "source": [
    "data = reader.read_entity()\n",
    "len(data.keys())"
   ]
  },
  {
   "cell_type": "code",
   "execution_count": 47,
   "metadata": {},
   "outputs": [
    {
     "name": "stdout",
     "output_type": "stream",
     "text": [
      "<class 'pandas.core.frame.DataFrame'>\n",
      "RangeIndex: 454020 entries, 0 to 454019\n",
      "Data columns (total 5 columns):\n",
      "id       454020 non-null object\n",
      "start    454020 non-null int64\n",
      "end      454020 non-null int64\n",
      "value    454020 non-null object\n",
      "class    454020 non-null object\n",
      "dtypes: int64(2), object(3)\n",
      "memory usage: 17.3+ MB\n"
     ]
    }
   ],
   "source": [
    "df = pd.DataFrame([v for e in data.values() for v in e], columns=['id', 'start', 'end', 'value', 'class'])\n",
    "df.info()"
   ]
  },
  {
   "cell_type": "code",
   "execution_count": 48,
   "metadata": {},
   "outputs": [
    {
     "data": {
      "text/html": [
       "<div>\n",
       "<style scoped>\n",
       "    .dataframe tbody tr th:only-of-type {\n",
       "        vertical-align: middle;\n",
       "    }\n",
       "\n",
       "    .dataframe tbody tr th {\n",
       "        vertical-align: top;\n",
       "    }\n",
       "\n",
       "    .dataframe thead th {\n",
       "        text-align: right;\n",
       "    }\n",
       "</style>\n",
       "<table border=\"1\" class=\"dataframe\">\n",
       "  <thead>\n",
       "    <tr style=\"text-align: right;\">\n",
       "      <th></th>\n",
       "      <th>id</th>\n",
       "      <th>start</th>\n",
       "      <th>end</th>\n",
       "      <th>value</th>\n",
       "      <th>class</th>\n",
       "    </tr>\n",
       "  </thead>\n",
       "  <tbody>\n",
       "    <tr>\n",
       "      <th>0</th>\n",
       "      <td>30554495</td>\n",
       "      <td>180</td>\n",
       "      <td>183</td>\n",
       "      <td>CD4</td>\n",
       "      <td>protein</td>\n",
       "    </tr>\n",
       "    <tr>\n",
       "      <th>1</th>\n",
       "      <td>30456753</td>\n",
       "      <td>103</td>\n",
       "      <td>110</td>\n",
       "      <td>FcGRIIb</td>\n",
       "      <td>protein</td>\n",
       "    </tr>\n",
       "    <tr>\n",
       "      <th>2</th>\n",
       "      <td>30456753</td>\n",
       "      <td>449</td>\n",
       "      <td>456</td>\n",
       "      <td>FcGRIIb</td>\n",
       "      <td>protein</td>\n",
       "    </tr>\n",
       "    <tr>\n",
       "      <th>3</th>\n",
       "      <td>30456753</td>\n",
       "      <td>599</td>\n",
       "      <td>607</td>\n",
       "      <td>FcGRIIb-</td>\n",
       "      <td>protein</td>\n",
       "    </tr>\n",
       "    <tr>\n",
       "      <th>4</th>\n",
       "      <td>30456753</td>\n",
       "      <td>873</td>\n",
       "      <td>882</td>\n",
       "      <td>cytokines</td>\n",
       "      <td>protein</td>\n",
       "    </tr>\n",
       "  </tbody>\n",
       "</table>\n",
       "</div>"
      ],
      "text/plain": [
       "         id  start  end      value    class\n",
       "0  30554495    180  183        CD4  protein\n",
       "1  30456753    103  110    FcGRIIb  protein\n",
       "2  30456753    449  456    FcGRIIb  protein\n",
       "3  30456753    599  607   FcGRIIb-  protein\n",
       "4  30456753    873  882  cytokines  protein"
      ]
     },
     "execution_count": 48,
     "metadata": {},
     "output_type": "execute_result"
    }
   ],
   "source": [
    "df.head()"
   ]
  },
  {
   "cell_type": "code",
   "execution_count": 49,
   "metadata": {},
   "outputs": [
    {
     "data": {
      "text/plain": [
       "'/Users/eczech/tmp/nlp/data/pubmed_abstract_proteins.csv'"
      ]
     },
     "execution_count": 49,
     "metadata": {},
     "output_type": "execute_result"
    }
   ],
   "source": [
    "path = osp.join(data_dir, 'pubmed_abstract_proteins.csv')\n",
    "df.to_csv(path, index=False)\n",
    "path"
   ]
  }
 ],
 "metadata": {
  "kernelspec": {
   "display_name": "Python 3",
   "language": "python",
   "name": "python3"
  },
  "language_info": {
   "codemirror_mode": {
    "name": "ipython",
    "version": 3
   },
   "file_extension": ".py",
   "mimetype": "text/x-python",
   "name": "python",
   "nbconvert_exporter": "python",
   "pygments_lexer": "ipython3",
   "version": "3.6.7"
  }
 },
 "nbformat": 4,
 "nbformat_minor": 2
}
