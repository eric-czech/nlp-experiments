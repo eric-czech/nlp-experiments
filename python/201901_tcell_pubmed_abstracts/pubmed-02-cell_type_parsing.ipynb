{
 "cells": [
  {
   "cell_type": "code",
   "execution_count": 3,
   "metadata": {},
   "outputs": [],
   "source": [
    "%run utils.py\n",
    "%matplotlib inline\n",
    "import os.path as osp\n",
    "import re\n",
    "import tqdm\n",
    "import spacy\n",
    "import pandas as pd\n",
    "nlp = spacy.load(\"en_scispacy_core_web_sm\")\n",
    "fix_jupyter_spacy_config()"
   ]
  },
  {
   "cell_type": "code",
   "execution_count": 4,
   "metadata": {},
   "outputs": [
    {
     "name": "stdout",
     "output_type": "stream",
     "text": [
      "<class 'pandas.core.frame.DataFrame'>\n",
      "Int64Index: 46580 entries, 0 to 52173\n",
      "Data columns (total 5 columns):\n",
      "abstract    46580 non-null object\n",
      "date        17852 non-null object\n",
      "id          46580 non-null int64\n",
      "terms       46580 non-null object\n",
      "title       46580 non-null object\n",
      "dtypes: int64(1), object(4)\n",
      "memory usage: 2.1+ MB\n"
     ]
    }
   ],
   "source": [
    "output_file = 'pubmed_abstracts.csv'\n",
    "df = pd.read_csv(osp.join(DATA_DIR, output_file))\n",
    "df = df[df['abstract'].notnull() & df['title'].notnull()]\n",
    "df.info()"
   ]
  },
  {
   "cell_type": "code",
   "execution_count": 37,
   "metadata": {},
   "outputs": [],
   "source": [
    "# *Potentially useful function for recursive subtree search\n",
    "# def find_node(tokens, p):\n",
    "#     for token in tokens:\n",
    "#         if p(token):\n",
    "#             return token\n",
    "#     else:\n",
    "#         children = [t for token in tokens for t in list(token.children)]\n",
    "#         if not children:\n",
    "#             return None\n",
    "#         return find_node(children, p)\n",
    "\n",
    "def prep(text):\n",
    "    text = re.sub('\\\\<(sup|sub)\\\\>([a-zA-Z+-]*)\\\\</(sup|sub)>', '\\\\2 ', text)\n",
    "    text = re.sub('[tT]\\\\-([cC]ell[s]*|[lL]ymphocyte[s]*)', 'T \\\\1', text)\n",
    "    return text\n",
    "\n",
    "def clean(term):\n",
    "    term = term.strip()\n",
    "    if term.endswith('s'):\n",
    "        term = term[:-1]\n",
    "    term = re.sub('[\\\\(\\\\)\\\\-\\\\+]', '', term).upper().strip()\n",
    "    term = term.replace('CELLS', '')\n",
    "    term = term.replace('CELL', '')\n",
    "    return term\n",
    "\n",
    "def get_t_types(text, details=False):\n",
    "    doc = nlp(prep(text))\n",
    "    res = []\n",
    "    for token in doc:\n",
    "        if token.text.startswith('T') or token.text.endswith('T'): \n",
    "            if token.dep_ in ['appos', 'amod', 'conj', 'nmod', 'nounmod']:\n",
    "                if token.head.lemma_ in ['cell', 'lymphocyte']:\n",
    "                    type_text = clean(token.text)\n",
    "                    if type_text != 'T':\n",
    "                        res.append((type_text, token.idx, len(token.text)))\n",
    "    df = pd.DataFrame(res, columns=['type', 'offset', 'len'])\n",
    "    if details:\n",
    "        return df\n",
    "    cts = df['type'].value_counts()\n",
    "    cts.index.name = 'type'\n",
    "    cts.name = 'count'\n",
    "    return cts.reset_index()"
   ]
  },
  {
   "cell_type": "code",
   "execution_count": 38,
   "metadata": {},
   "outputs": [],
   "source": [
    "#token = list(nlp(prep('hi there person')))[2]\n",
    "#get_t_types('A cell (TRM)', details=True)"
   ]
  },
  {
   "cell_type": "code",
   "execution_count": 49,
   "metadata": {},
   "outputs": [
    {
     "name": "stdout",
     "output_type": "stream",
     "text": [
      "Tissue-resident memory T (Trm) cells form a heterogeneous population that provides localized protection against pathogens. Here, we identify CD49a as a marker that differentiates CD8+ Trm cells on a compartmental and functional basis. In human skin epithelia, CD8+CD49a+ Trm cells produced interferon-γ, whereas CD8+CD49a- Trm cells produced interleukin-17 (IL-17)\n"
     ]
    },
    {
     "data": {
      "text/html": [
       "<div>\n",
       "<style scoped>\n",
       "    .dataframe tbody tr th:only-of-type {\n",
       "        vertical-align: middle;\n",
       "    }\n",
       "\n",
       "    .dataframe tbody tr th {\n",
       "        vertical-align: top;\n",
       "    }\n",
       "\n",
       "    .dataframe thead th {\n",
       "        text-align: right;\n",
       "    }\n",
       "</style>\n",
       "<table border=\"1\" class=\"dataframe\">\n",
       "  <thead>\n",
       "    <tr style=\"text-align: right;\">\n",
       "      <th></th>\n",
       "      <th>type</th>\n",
       "      <th>offset</th>\n",
       "      <th>len</th>\n",
       "    </tr>\n",
       "  </thead>\n",
       "  <tbody>\n",
       "    <tr>\n",
       "      <th>0</th>\n",
       "      <td>TRM</td>\n",
       "      <td>26</td>\n",
       "      <td>3</td>\n",
       "    </tr>\n",
       "  </tbody>\n",
       "</table>\n",
       "</div>"
      ],
      "text/plain": [
       "  type  offset  len\n",
       "0  TRM      26    3"
      ]
     },
     "execution_count": 49,
     "metadata": {},
     "output_type": "execute_result"
    }
   ],
   "source": [
    "#text = df.iloc[1]['abstract']\n",
    "#text = prep('Mucosal associated (MAIT) cells')\n",
    "#text = df[df['id'] == 12634786].iloc[0]['abstract']\n",
    "text = \"Tissue-resident memory T (Trm) cells form a heterogeneous population that provides localized protection against pathogens. Here, we identify CD49a as a marker that differentiates CD8+ Trm cells on a compartmental and functional basis. In human skin epithelia, CD8+CD49a+ Trm cells produced interferon-γ, whereas CD8+CD49a- Trm cells produced interleukin-17 (IL-17)\"\n",
    "#print(prep(text))\n",
    "print(text)\n",
    "get_t_types(text, details=True)"
   ]
  },
  {
   "cell_type": "code",
   "execution_count": 12,
   "metadata": {},
   "outputs": [
    {
     "data": {
      "text/plain": [
       "46580"
      ]
     },
     "execution_count": 12,
     "metadata": {},
     "output_type": "execute_result"
    }
   ],
   "source": [
    "len(df)"
   ]
  },
  {
   "cell_type": "code",
   "execution_count": 14,
   "metadata": {},
   "outputs": [
    {
     "name": "stderr",
     "output_type": "stream",
     "text": [
      "46580it [31:21, 24.76it/s]\n"
     ]
    },
    {
     "data": {
      "text/html": [
       "<div>\n",
       "<style scoped>\n",
       "    .dataframe tbody tr th:only-of-type {\n",
       "        vertical-align: middle;\n",
       "    }\n",
       "\n",
       "    .dataframe tbody tr th {\n",
       "        vertical-align: top;\n",
       "    }\n",
       "\n",
       "    .dataframe thead th {\n",
       "        text-align: right;\n",
       "    }\n",
       "</style>\n",
       "<table border=\"1\" class=\"dataframe\">\n",
       "  <thead>\n",
       "    <tr style=\"text-align: right;\">\n",
       "      <th></th>\n",
       "      <th>type</th>\n",
       "      <th>count</th>\n",
       "      <th>id</th>\n",
       "    </tr>\n",
       "  </thead>\n",
       "  <tbody>\n",
       "    <tr>\n",
       "      <th>0</th>\n",
       "      <td>TH</td>\n",
       "      <td>1</td>\n",
       "      <td>30456753</td>\n",
       "    </tr>\n",
       "    <tr>\n",
       "      <th>1</th>\n",
       "      <td>TREG</td>\n",
       "      <td>4</td>\n",
       "      <td>30560927</td>\n",
       "    </tr>\n",
       "    <tr>\n",
       "      <th>2</th>\n",
       "      <td>T</td>\n",
       "      <td>1</td>\n",
       "      <td>30560927</td>\n",
       "    </tr>\n",
       "    <tr>\n",
       "      <th>3</th>\n",
       "      <td>T</td>\n",
       "      <td>1</td>\n",
       "      <td>30325558</td>\n",
       "    </tr>\n",
       "    <tr>\n",
       "      <th>4</th>\n",
       "      <td>TFH</td>\n",
       "      <td>1</td>\n",
       "      <td>30325558</td>\n",
       "    </tr>\n",
       "  </tbody>\n",
       "</table>\n",
       "</div>"
      ],
      "text/plain": [
       "   type  count        id\n",
       "0    TH      1  30456753\n",
       "1  TREG      4  30560927\n",
       "2     T      1  30560927\n",
       "3     T      1  30325558\n",
       "4   TFH      1  30325558"
      ]
     },
     "execution_count": 14,
     "metadata": {},
     "output_type": "execute_result"
    }
   ],
   "source": [
    "dfcts = pd.concat([\n",
    "    get_t_types(prep(r['title'] + '.  ' + r['abstract'])).assign(id=r['id'])\n",
    "    #for i, r in df.loc[df['abstract'].notnull()].sample(5000, random_state=1).iterrows()\n",
    "    for i, r in tqdm.tqdm(df.iterrows())\n",
    "])\n",
    "dfcts = dfcts.reset_index(drop=True)\n",
    "dfcts.head()"
   ]
  },
  {
   "cell_type": "code",
   "execution_count": 68,
   "metadata": {},
   "outputs": [
    {
     "data": {
      "text/plain": [
       "TRESP                  11\n",
       "TC17                   12\n",
       "TH1TYPE                12\n",
       "TGFBETA                14\n",
       "TH1POLARIZED           14\n",
       "TSUPPRESSOR            14\n",
       "TH1LIKE                14\n",
       "TOTAL                  15\n",
       "TAL                    16\n",
       "TCON                   16\n",
       "TREG/TH17              17\n",
       "TGFΒ                   17\n",
       "TRM                    17\n",
       "TAXSPECIFIC            17\n",
       "T3                     18\n",
       "TBET                   19\n",
       "TCONV                  22\n",
       "TCM                    23\n",
       "TOLEROGENIC            25\n",
       "TH9                    27\n",
       "ΓΔT                    29\n",
       "NONT                   30\n",
       "TUMORINFILTRATING      30\n",
       "TFR                    33\n",
       "TH22                   34\n",
       "TC1                    34\n",
       "TEM                    36\n",
       "CD4T                   43\n",
       "TCR                    45\n",
       "TYPE                   45\n",
       "TREGULATORY            49\n",
       "TREGS                  52\n",
       "TC                     55\n",
       "INKT                   56\n",
       "T8                     61\n",
       "TR                     62\n",
       "T4                     67\n",
       "TEFF                   79\n",
       "TR1                    83\n",
       "MAIT                  105\n",
       "NKT                   147\n",
       "THELPER               232\n",
       "TIL                   277\n",
       "TH2                   300\n",
       "TFH                   310\n",
       "TH                    508\n",
       "TH17                  533\n",
       "TH1                   561\n",
       "T                    2671\n",
       "TREG                 3474\n",
       "Name: type, dtype: int64"
      ]
     },
     "execution_count": 68,
     "metadata": {},
     "output_type": "execute_result"
    }
   ],
   "source": [
    "dfcts['type'].value_counts().sort_values().tail(50)"
   ]
  },
  {
   "cell_type": "code",
   "execution_count": null,
   "metadata": {},
   "outputs": [],
   "source": [
    "# TC17 - CD8(+)T cells producing IL17 (markers: CD161)\n",
    "# TC1 - CD8(+)T cells producing IFN-gamma\n",
    "# TC2 - CD8(+)T cells producing IL-4 and IL-5\n",
    "# TH{0,1,2,17,22}\n",
    "# TH{0,1,2,17}LIKE \n",
    "# TRM - Tissue resident memory cell (markers: CD69)\n",
    "# TFR - Follicular regulatory T cells (markers: CXCR5, Bcl-6, PD-1, and ICOS)\n",
    "# TSCM (TSCS) - T stem cell\n",
    "# TH3 - TGF-beta negative CD4 cells\n",
    "# TR1 - T-reg type 1: able to secrete IL-10 in response to antigen (markers: CD49b, TIM-3, PD-1, TIGIT, LAG-3, and ICOS)\n",
    "# TCS1 - Gamma/delta subtype (TCS1); may see increase after transplants\n",
    "# THP - T-helper precursor cells (related: IL-2, 4, 12, 13, CD40/CD40L)\n",
    "# TLAK - IL-2 activated t cells (markers: CD16)\n",
    "# TCM / TM \n",
    "# TN / \n",
    "# TEFFS / TEFF / TE\n",
    "# TEMRA \n",
    "# TCRGAMMADELTA / TCRGAMMA\n",
    "# Subsets of GD cells: \n",
    "# main difference: Vδ1 vs Vδ2\n",
    "# Vδ1 γδ-T cells with different Vγ elements account for the majority of mucosal-associated lymphoid tissue γδ-T cells\n",
    "# Vδ2γ9-T vs In contrast, γδ-T cells bearing the Vδ2 gene with the co-expression of the Vγ9 chain (Vγ9Vδ2-T cells) are abundant in the peripheral blood and lymphoid organs of most healthy individuals\n",
    "# \n",
    "\n",
    "# OKT - Ortho-Kung T cell (just an old broad term for lyphocytes)\n",
    "# PBT - Peripheral blood T cells\n",
    "# TRESP - Responder T cells (seems to be anything CD25-)\n",
    "# TREST?\n",
    "# TCON\n",
    "\n",
    "\n",
    "# Currently there are six subtypes of Tregs including CD4+CD25+ naturally occurring (N-Tregs), \n",
    "# inducible naïve CD4+CD25- T cells (TR1), TR1 memory phenotype, T-helper type 3 (TH3), \n",
    "# CD4-CD25+DX5+ natural killer T cells (TRNKT), and CD4-CD25+CD8+ cytotoxic T cells (TRCTC)"
   ]
  },
  {
   "cell_type": "code",
   "execution_count": 210,
   "metadata": {},
   "outputs": [],
   "source": [
    "# Remove \"TYPE\", split on '/' and match pieces\n",
    "m_typ = {\n",
    "    'TN': (['TN'], 'Naive', 2),\n",
    "    'TEMRA': (['TEMRA'], 'EMRA', 2),\n",
    "    'TCM': (['TCM'], 'Central Memory', 2),\n",
    "    'TEFF' : (['TEFF', 'TEFFS', 'TEFFECTORS'], 'Effector', 2),\n",
    "    'TEM': (['TEM', 'TEMS'], 'Effector Memory', 2),\n",
    "    'TC0': (['TC0'], 'Tc0', 1),\n",
    "    'TC1': (['TC1'], 'Tc1', 1),\n",
    "    'TC2': (['TC2'], 'Tc2', 1),\n",
    "    'TC9': (['TC9'], 'Tc9', 1),\n",
    "    'TC17': (['TC17'], 'Tc17', 1),\n",
    "    'TH': (['TH', 'THELPER'], 'Th', 2),\n",
    "    'THP': (['THP'], 'Th-Precursor', 1),\n",
    "    'TH0': (['TH0'], 'Th0', 1),\n",
    "    'TH1': (['TH1'], 'Th1', 1),\n",
    "    'TH2': (['TH2'], 'Th2', 1),\n",
    "    'TH3': (['TH3'], 'Th3', 1),\n",
    "    'TH9': (['TH9'], 'Th9', 1),\n",
    "    'TH17': (['TH17'], 'Th17', 1),\n",
    "    'TH22': (['TH22'], 'Th22', 1),\n",
    "    'TFH': (['TFH', 'TFHLIKE'], 'Tfh', 2),\n",
    "    'TFREG': (['TFREG', 'TFR', 'TFRLIKE'], 'Follicular Treg', 1),\n",
    "    'TFH0LIKE': (['TH0LIKE', 'THELPER0LIKE'], 'Th0-like Tfh', 1),\n",
    "    'TFH1LIKE': (['TH1LIKE', 'THELPER1LIKE'], 'Th1-like Tfh', 1),\n",
    "    'TFH2LIKE': (['TH2LIKE', 'THELPER2LIKE'], 'Th2-like Tfh', 1),\n",
    "    'TFH17LIKE': (['TH17LIKE', 'THELPER17LIKE'], 'Th17-like Tfh', 1),\n",
    "    'TRM': (['TRM', 'TTRM'], 'Tissue Resident Memory', 1),\n",
    "    'TSCM': (['TSCM'], 'Stem Memory', 1),\n",
    "    'TREG': (['TREG', 'TREGS', 'TREGULATORY'], 'Treg', 2),\n",
    "    # This is an old term for Tregs\n",
    "    'TSUPP': (['TSUPPRESSOR', 'TS/C', 'TSUPPRESSOR/CYTOTOXIC', 'TSUPPRESSORCYTOTOXIC', 'TS/TC'], 'T Suppresor', 2),\n",
    "    'TREG1': (['TREG1', 'TR1', 'TR1POLARIZED'], 'Type 1 Treg', 1), # Inducible naive\n",
    "    'TREG17': (['TREG17', 'TREG/TH17', 'TREGS/TH17', 'TREGSTH17', 'TREGTH17'], 'Type 17 Treg', 1),\n",
    "    'NKT': (['NKT', 'NK/T', 'INKT', 'TRNKT', 'CNKT'], 'Natural Killer T', 1),\n",
    "    'MAIT': (['MAIT'], 'Mucosal-associated Invariant T', 1),\n",
    "    'γδT': ([\n",
    "        'TCRGAMMADELTA', 'TGAMMADELTA', 'TCRGAMMA', 'TGAMMA', \n",
    "        'TCRDELTA', 'TDELTA', 'TCRGAMMADELTABEARING', 'ΓΔT', 'GAMMA/DELTAT'], 'γδT', 2),\n",
    "    'γδT-Vδ1': (['VDELTA1T', 'VΔ1T', 'TCRVΔ1', 'TCRVΔ1'], 'γδT-Vδ1', 1),\n",
    "    'γδT-Vδ2': (['VDELTA2T', 'VΔ2T', 'TCRVΔ2', 'TCRVΔ2'], 'γδT-Vδ2', 1),\n",
    "    'γδT-Vγ9': (['TCRVΓ9', 'TCRVGAMMA9'], 'γδT-Vγ9', 1),\n",
    "    'γδT-Vγ9Vδ2': (['VΓ9VΔ2T', 'VΔ2T', 'TCRVΔ2', 'TCRVΔ2'], 'γδT-Vγ9Vδ2', 1),\n",
    "    'γδT-17': (['TCRΓΔ17', 'TGAMMADELTA17'], 'γδT17', 1),\n",
    "    'γδT-TCS1': (['TCS1'], 'γδT-TCS1', 1),\n",
    "    \n",
    "    # Broader classifications\n",
    "    'TRESP': (['TRESP', 'TRESPS'], 'Responsive T Cell', 3),\n",
    "    'TREST': (['TREST', 'TRESTING'], 'Resting T Cell', 3),\n",
    "    'OKT': (['OKT', 'OKT8T'], 'Ortho-Kung T Cell', 3),\n",
    "    'TCONV': (['TCONV', 'TCON'], 'Non-regulatory T Cell', 3),\n",
    "    'TLAK': (['TLAK', 'LAKT', 'TCK'], 'Cytokine Activated T Cell', 3)\n",
    "}"
   ]
  },
  {
   "cell_type": "code",
   "execution_count": 211,
   "metadata": {},
   "outputs": [
    {
     "data": {
      "text/html": [
       "<div>\n",
       "<style scoped>\n",
       "    .dataframe tbody tr th:only-of-type {\n",
       "        vertical-align: middle;\n",
       "    }\n",
       "\n",
       "    .dataframe tbody tr th {\n",
       "        vertical-align: top;\n",
       "    }\n",
       "\n",
       "    .dataframe thead th {\n",
       "        text-align: right;\n",
       "    }\n",
       "</style>\n",
       "<table border=\"1\" class=\"dataframe\">\n",
       "  <thead>\n",
       "    <tr style=\"text-align: right;\">\n",
       "      <th></th>\n",
       "      <th>type</th>\n",
       "      <th>count</th>\n",
       "      <th>id</th>\n",
       "    </tr>\n",
       "  </thead>\n",
       "  <tbody>\n",
       "    <tr>\n",
       "      <th>28</th>\n",
       "      <td>TREG</td>\n",
       "      <td>1</td>\n",
       "      <td>30119214</td>\n",
       "    </tr>\n",
       "  </tbody>\n",
       "</table>\n",
       "</div>"
      ],
      "text/plain": [
       "    type  count        id\n",
       "28  TREG      1  30119214"
      ]
     },
     "execution_count": 211,
     "metadata": {},
     "output_type": "execute_result"
    }
   ],
   "source": [
    "dfcts[dfcts['id'] == 30119214]"
   ]
  },
  {
   "cell_type": "code",
   "execution_count": 212,
   "metadata": {},
   "outputs": [
    {
     "data": {
      "text/plain": [
       "TH1                  561\n",
       "TH17                 533\n",
       "TH                   508\n",
       "TH2                  300\n",
       "THELPER              232\n",
       "TH22                  34\n",
       "TH9                   27\n",
       "TREG/TH17             17\n",
       "TH1POLARIZED          14\n",
       "TH1LIKE               14\n",
       "TH1TYPE               12\n",
       "TH0                   11\n",
       "TH3                    9\n",
       "TH2TYPE                6\n",
       "THYMIC                 6\n",
       "TH1/TH17               5\n",
       "TH2LIKE                5\n",
       "TH1/TH2                5\n",
       "THELPER1               5\n",
       "TH17/TREG              5\n",
       "THP                    4\n",
       "TH0LIKE                4\n",
       "THELPER/INDUCER        4\n",
       "TH1/TH2/TH17           4\n",
       "TH17POLARIZED          3\n",
       "TH17/TH1               3\n",
       "TH2SKEWED              3\n",
       "TH17DERIVED            3\n",
       "TH0/TH2                3\n",
       "THELPER17              3\n",
       "TH2POLARIZED           3\n",
       "THYMUSDERIVED          3\n",
       "THEOPHYLLINE           2\n",
       "THC                    2\n",
       "TH/I                   2\n",
       "TREGS/TH17             2\n",
       "TH2INDUCING            2\n",
       "TH1SUBSET              1\n",
       "TH1EFFECTOR            1\n",
       "TH1/TH17POLARIZED      1\n",
       "TH1SKEWED              1\n",
       "THY1POSITIVE           1\n",
       "TH3/T                  1\n",
       "THY                    1\n",
       "THMYCNDERIVED          1\n",
       "THIL17                 1\n",
       "TH17TREG               1\n",
       "THP1                   1\n",
       "THYMU                  1\n",
       "TH2/1HYBRID            1\n",
       "Name: type, dtype: int64"
      ]
     },
     "execution_count": 212,
     "metadata": {},
     "output_type": "execute_result"
    }
   ],
   "source": [
    "dfcts[dfcts['type'].str.contains('TH')]['type'].value_counts().head(50).tail(50)\n",
    "#dfcts[dfcts['type'].str.contains('TH') & dfcts['type'].str.contains('LIKE')]['type'].value_counts().head(50).tail(50)\n",
    "#dfcts[dfcts['type'].str.contains('Γ') | dfcts['type'].str.contains('Δ') | dfcts['type'].str.contains('GAMMA') | dfcts['type'].str.contains('DELTA')]['type'].value_counts().head(50).tail(50)"
   ]
  },
  {
   "cell_type": "code",
   "execution_count": 172,
   "metadata": {},
   "outputs": [],
   "source": [
    "#df[df['id'].isin(dfcts[dfcts['type'] == 'TS/C']['id'])]['id'].iloc[0]"
   ]
  },
  {
   "cell_type": "code",
   "execution_count": 200,
   "metadata": {},
   "outputs": [
    {
     "data": {
      "text/plain": [
       "'Dasatinib induces lymphocytosis of large granular lymphocytes (LGLs) in a proportion of patients with chronic myelogenous leukemia (CML), and is associated with better clinical outcomes. LGLs consist of cytotoxic T lymphocytes and natural killer cells; however, the context and phenotypic/functional features of each type of LGL are unknown. To better define features of these LGLs, we investigated lymphocytosis in CML patients treated with dasatinib. D57-positive and CD4-positive type I T-helper (Th) cells (CD57+\\u2009Th cells) rarely occur in CML patients without lymphocytosis and in healthy individuals; however, a substantial increase in the proportion of CD57+\\u2009Th cells was observed in CML patients treated with dasatinib. In addition, these cells showed appreciable levels of cytocidal activity via cytotoxic degranulation. Analysis of T-cell receptor α and β sequences showed a skewed T-cell repertoire in the CD57+\\u2009Th cells. Furthermore, patients with LGLs and CD57+\\u2009Th lymphocytosis achieved stronger molecular responses than did those without lymphocytosis. While further studies are warranted, our observations suggest that dasatinib induces the expansion of CD57+\\u2009Th-LGLs, which may play a crucial role in the dasatinib-induced response against Philadelphia chromosome-positive leukemia.'"
      ]
     },
     "execution_count": 200,
     "metadata": {},
     "output_type": "execute_result"
    }
   ],
   "source": [
    "df[df['id'].isin(dfcts[dfcts['type'] == 'TH']['id'])]['abstract'].iloc[1]"
   ]
  },
  {
   "cell_type": "markdown",
   "metadata": {},
   "source": [
    "## Type Normalization"
   ]
  },
  {
   "cell_type": "code",
   "execution_count": 201,
   "metadata": {},
   "outputs": [
    {
     "name": "stdout",
     "output_type": "stream",
     "text": [
      "<class 'pandas.core.frame.DataFrame'>\n",
      "RangeIndex: 11524 entries, 0 to 11523\n",
      "Data columns (total 3 columns):\n",
      "type     11524 non-null object\n",
      "count    11524 non-null int64\n",
      "id       11524 non-null int64\n",
      "dtypes: int64(2), object(1)\n",
      "memory usage: 270.2+ KB\n"
     ]
    }
   ],
   "source": [
    "dfcts.info()"
   ]
  },
  {
   "cell_type": "code",
   "execution_count": 205,
   "metadata": {},
   "outputs": [],
   "source": [
    "typ_uniq = dfcts['type'].unique()\n",
    "m_typ_norm = {}\n",
    "\n",
    "def get_match(typ):\n",
    "    for k, v in m_typ.items():\n",
    "        cands = v[0]\n",
    "        if typ in cands:\n",
    "            return k\n",
    "    return None\n",
    "\n",
    "for typ_ent in typ_uniq:\n",
    "    typ = typ_ent.replace('TYPE', '')\n",
    "    match = get_match(typ)\n",
    "    if match is None:\n",
    "        for t in typ.split('/'):\n",
    "            match = get_match(t)\n",
    "            if match is not None:\n",
    "                break\n",
    "    if match is not None:\n",
    "        cands, nm, lvl = m_typ[match]\n",
    "        m_typ_norm[typ_ent] = (match, nm, lvl)\n",
    "    else:\n",
    "        m_typ_norm[typ_ent] = (None, None, None)"
   ]
  },
  {
   "cell_type": "code",
   "execution_count": 207,
   "metadata": {},
   "outputs": [
    {
     "data": {
      "text/html": [
       "<div>\n",
       "<style scoped>\n",
       "    .dataframe tbody tr th:only-of-type {\n",
       "        vertical-align: middle;\n",
       "    }\n",
       "\n",
       "    .dataframe tbody tr th {\n",
       "        vertical-align: top;\n",
       "    }\n",
       "\n",
       "    .dataframe thead th {\n",
       "        text-align: right;\n",
       "    }\n",
       "</style>\n",
       "<table border=\"1\" class=\"dataframe\">\n",
       "  <thead>\n",
       "    <tr style=\"text-align: right;\">\n",
       "      <th></th>\n",
       "      <th>type</th>\n",
       "      <th>count</th>\n",
       "      <th>id</th>\n",
       "      <th>type_key</th>\n",
       "      <th>type_lbl</th>\n",
       "      <th>type_lvl</th>\n",
       "    </tr>\n",
       "  </thead>\n",
       "  <tbody>\n",
       "    <tr>\n",
       "      <th>0</th>\n",
       "      <td>TH</td>\n",
       "      <td>1</td>\n",
       "      <td>30456753</td>\n",
       "      <td>TH</td>\n",
       "      <td>Th</td>\n",
       "      <td>2.0</td>\n",
       "    </tr>\n",
       "    <tr>\n",
       "      <th>1</th>\n",
       "      <td>TREG</td>\n",
       "      <td>4</td>\n",
       "      <td>30560927</td>\n",
       "      <td>TREG</td>\n",
       "      <td>Treg</td>\n",
       "      <td>2.0</td>\n",
       "    </tr>\n",
       "    <tr>\n",
       "      <th>2</th>\n",
       "      <td>T</td>\n",
       "      <td>1</td>\n",
       "      <td>30560927</td>\n",
       "      <td>None</td>\n",
       "      <td>None</td>\n",
       "      <td>NaN</td>\n",
       "    </tr>\n",
       "    <tr>\n",
       "      <th>3</th>\n",
       "      <td>T</td>\n",
       "      <td>1</td>\n",
       "      <td>30325558</td>\n",
       "      <td>None</td>\n",
       "      <td>None</td>\n",
       "      <td>NaN</td>\n",
       "    </tr>\n",
       "    <tr>\n",
       "      <th>4</th>\n",
       "      <td>TFH</td>\n",
       "      <td>1</td>\n",
       "      <td>30325558</td>\n",
       "      <td>TFH</td>\n",
       "      <td>Tfh</td>\n",
       "      <td>2.0</td>\n",
       "    </tr>\n",
       "    <tr>\n",
       "      <th>5</th>\n",
       "      <td>TH</td>\n",
       "      <td>1</td>\n",
       "      <td>30151740</td>\n",
       "      <td>TH</td>\n",
       "      <td>Th</td>\n",
       "      <td>2.0</td>\n",
       "    </tr>\n",
       "    <tr>\n",
       "      <th>6</th>\n",
       "      <td>THELPER</td>\n",
       "      <td>1</td>\n",
       "      <td>30151740</td>\n",
       "      <td>TH</td>\n",
       "      <td>Th</td>\n",
       "      <td>2.0</td>\n",
       "    </tr>\n",
       "    <tr>\n",
       "      <th>7</th>\n",
       "      <td>TREG</td>\n",
       "      <td>1</td>\n",
       "      <td>29996743</td>\n",
       "      <td>TREG</td>\n",
       "      <td>Treg</td>\n",
       "      <td>2.0</td>\n",
       "    </tr>\n",
       "    <tr>\n",
       "      <th>8</th>\n",
       "      <td>MAIT</td>\n",
       "      <td>3</td>\n",
       "      <td>29470597</td>\n",
       "      <td>MAIT</td>\n",
       "      <td>Mucosal-associated Invariant T</td>\n",
       "      <td>1.0</td>\n",
       "    </tr>\n",
       "    <tr>\n",
       "      <th>9</th>\n",
       "      <td>T</td>\n",
       "      <td>1</td>\n",
       "      <td>29470597</td>\n",
       "      <td>None</td>\n",
       "      <td>None</td>\n",
       "      <td>NaN</td>\n",
       "    </tr>\n",
       "    <tr>\n",
       "      <th>10</th>\n",
       "      <td>TH17</td>\n",
       "      <td>1</td>\n",
       "      <td>28993118</td>\n",
       "      <td>TH17</td>\n",
       "      <td>Th17</td>\n",
       "      <td>1.0</td>\n",
       "    </tr>\n",
       "    <tr>\n",
       "      <th>11</th>\n",
       "      <td>TREG</td>\n",
       "      <td>1</td>\n",
       "      <td>28993118</td>\n",
       "      <td>TREG</td>\n",
       "      <td>Treg</td>\n",
       "      <td>2.0</td>\n",
       "    </tr>\n",
       "    <tr>\n",
       "      <th>12</th>\n",
       "      <td>TREG</td>\n",
       "      <td>1</td>\n",
       "      <td>29982851</td>\n",
       "      <td>TREG</td>\n",
       "      <td>Treg</td>\n",
       "      <td>2.0</td>\n",
       "    </tr>\n",
       "    <tr>\n",
       "      <th>13</th>\n",
       "      <td>TH22</td>\n",
       "      <td>1</td>\n",
       "      <td>29708439</td>\n",
       "      <td>TH22</td>\n",
       "      <td>Th22</td>\n",
       "      <td>1.0</td>\n",
       "    </tr>\n",
       "    <tr>\n",
       "      <th>14</th>\n",
       "      <td>TREG</td>\n",
       "      <td>1</td>\n",
       "      <td>30539029</td>\n",
       "      <td>TREG</td>\n",
       "      <td>Treg</td>\n",
       "      <td>2.0</td>\n",
       "    </tr>\n",
       "  </tbody>\n",
       "</table>\n",
       "</div>"
      ],
      "text/plain": [
       "       type  count        id type_key                        type_lbl  \\\n",
       "0        TH      1  30456753       TH                              Th   \n",
       "1      TREG      4  30560927     TREG                            Treg   \n",
       "2         T      1  30560927     None                            None   \n",
       "3         T      1  30325558     None                            None   \n",
       "4       TFH      1  30325558      TFH                             Tfh   \n",
       "5        TH      1  30151740       TH                              Th   \n",
       "6   THELPER      1  30151740       TH                              Th   \n",
       "7      TREG      1  29996743     TREG                            Treg   \n",
       "8      MAIT      3  29470597     MAIT  Mucosal-associated Invariant T   \n",
       "9         T      1  29470597     None                            None   \n",
       "10     TH17      1  28993118     TH17                            Th17   \n",
       "11     TREG      1  28993118     TREG                            Treg   \n",
       "12     TREG      1  29982851     TREG                            Treg   \n",
       "13     TH22      1  29708439     TH22                            Th22   \n",
       "14     TREG      1  30539029     TREG                            Treg   \n",
       "\n",
       "    type_lvl  \n",
       "0        2.0  \n",
       "1        2.0  \n",
       "2        NaN  \n",
       "3        NaN  \n",
       "4        2.0  \n",
       "5        2.0  \n",
       "6        2.0  \n",
       "7        2.0  \n",
       "8        1.0  \n",
       "9        NaN  \n",
       "10       1.0  \n",
       "11       2.0  \n",
       "12       2.0  \n",
       "13       1.0  \n",
       "14       2.0  "
      ]
     },
     "execution_count": 207,
     "metadata": {},
     "output_type": "execute_result"
    }
   ],
   "source": [
    "dfr = dfcts.copy()\n",
    "dfr['type_key'] = [e[0] for e in dfr['type'].map(m_typ_norm)]\n",
    "dfr['type_lbl'] = [e[1] for e in dfr['type'].map(m_typ_norm)]\n",
    "dfr['type_lvl'] = [e[2] for e in dfr['type'].map(m_typ_norm)]\n",
    "dfr.head(15)"
   ]
  },
  {
   "cell_type": "markdown",
   "metadata": {},
   "source": [
    "## Export"
   ]
  },
  {
   "cell_type": "code",
   "execution_count": 208,
   "metadata": {},
   "outputs": [
    {
     "name": "stdout",
     "output_type": "stream",
     "text": [
      "<class 'pandas.core.frame.DataFrame'>\n",
      "RangeIndex: 11524 entries, 0 to 11523\n",
      "Data columns (total 6 columns):\n",
      "type        11524 non-null object\n",
      "count       11524 non-null int64\n",
      "id          11524 non-null int64\n",
      "type_key    7045 non-null object\n",
      "type_lbl    7045 non-null object\n",
      "type_lvl    7045 non-null float64\n",
      "dtypes: float64(1), int64(2), object(3)\n",
      "memory usage: 540.3+ KB\n"
     ]
    }
   ],
   "source": [
    "dfr.info()"
   ]
  },
  {
   "cell_type": "code",
   "execution_count": 209,
   "metadata": {},
   "outputs": [
    {
     "data": {
      "text/plain": [
       "'/Users/eczech/tmp/nlp/data/pubmed_abstract_tcell_types.csv'"
      ]
     },
     "execution_count": 209,
     "metadata": {},
     "output_type": "execute_result"
    }
   ],
   "source": [
    "path = osp.join(DATA_DIR, 'pubmed_abstract_tcell_types.csv')\n",
    "dfr.to_csv(path, index=False)\n",
    "path"
   ]
  }
 ],
 "metadata": {
  "kernelspec": {
   "display_name": "Python 3",
   "language": "python",
   "name": "python3"
  },
  "language_info": {
   "codemirror_mode": {
    "name": "ipython",
    "version": 3
   },
   "file_extension": ".py",
   "mimetype": "text/x-python",
   "name": "python",
   "nbconvert_exporter": "python",
   "pygments_lexer": "ipython3",
   "version": "3.6.7"
  }
 },
 "nbformat": 4,
 "nbformat_minor": 2
}
