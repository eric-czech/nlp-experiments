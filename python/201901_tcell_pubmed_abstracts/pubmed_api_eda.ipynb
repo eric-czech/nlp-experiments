{
 "cells": [
  {
   "cell_type": "code",
   "execution_count": 1,
   "metadata": {},
   "outputs": [],
   "source": [
    "from Bio import Entrez\n",
    "# Entrez field docs: https://www.nlm.nih.gov/bsd/licensee/elements_descriptions.html"
   ]
  },
  {
   "cell_type": "code",
   "execution_count": 19,
   "metadata": {},
   "outputs": [],
   "source": [
    "def search(query, retstart=0, retmax=1000):\n",
    "    Entrez.email = 'eric@hammerlab.org'\n",
    "    handle = Entrez.esearch(db='pubmed', \n",
    "                            sort='relevance', \n",
    "                            retmax=str(retmax),\n",
    "                            retstart=str(retstart),\n",
    "                            retmode='xml', \n",
    "                            term=query)\n",
    "    results = Entrez.read(handle)\n",
    "    return results"
   ]
  },
  {
   "cell_type": "code",
   "execution_count": 75,
   "metadata": {},
   "outputs": [],
   "source": [
    "#res = search('T cells OR T-cells OR T lymphocytes OR T-lymphocytes', retstart=9, retmax=10)\n",
    "res = search('T cells OR T-cells OR T lymphocytes OR T-lymphocytes', retstart=1000000009, retmax=10)"
   ]
  },
  {
   "cell_type": "code",
   "execution_count": 77,
   "metadata": {},
   "outputs": [
    {
     "data": {
      "text/plain": [
       "[]"
      ]
     },
     "execution_count": 77,
     "metadata": {},
     "output_type": "execute_result"
    }
   ],
   "source": [
    "res['IdList']"
   ]
  },
  {
   "cell_type": "code",
   "execution_count": 21,
   "metadata": {},
   "outputs": [
    {
     "data": {
      "text/plain": [
       "['28732506', '29351444', '29127433', '27236113', '28281389', '28781259', '27682848', '27323163', '29990733', '29311654']"
      ]
     },
     "execution_count": 21,
     "metadata": {},
     "output_type": "execute_result"
    }
   ],
   "source": [
    "res['IdList']"
   ]
  },
  {
   "cell_type": "code",
   "execution_count": 25,
   "metadata": {},
   "outputs": [
    {
     "data": {
      "text/plain": [
       "['29311654', '28577989', '30193429', '29636469', '29030820', '28648732', '29801999', '29715466', '27082643', '27588913']"
      ]
     },
     "execution_count": 25,
     "metadata": {},
     "output_type": "execute_result"
    }
   ],
   "source": [
    "res['IdList']"
   ]
  },
  {
   "cell_type": "code",
   "execution_count": 26,
   "metadata": {},
   "outputs": [
    {
     "data": {
      "text/plain": [
       "10"
      ]
     },
     "execution_count": 26,
     "metadata": {},
     "output_type": "execute_result"
    }
   ],
   "source": [
    "len(res['IdList'])"
   ]
  },
  {
   "cell_type": "code",
   "execution_count": 27,
   "metadata": {},
   "outputs": [],
   "source": [
    "def fetch_details(id_list):\n",
    "    ids = ','.join(id_list)\n",
    "    Entrez.email = 'your.email@example.com'\n",
    "    handle = Entrez.efetch(db='pubmed',\n",
    "                           retmode='xml',\n",
    "                           id=ids)\n",
    "    results = Entrez.read(handle)\n",
    "    return results"
   ]
  },
  {
   "cell_type": "code",
   "execution_count": 84,
   "metadata": {},
   "outputs": [],
   "source": [
    "#dets = fetch_details(res['IdList'])\n",
    "dets = fetch_details(['29311654'])"
   ]
  },
  {
   "cell_type": "code",
   "execution_count": 79,
   "metadata": {},
   "outputs": [
    {
     "data": {
      "text/plain": [
       "2"
      ]
     },
     "execution_count": 79,
     "metadata": {},
     "output_type": "execute_result"
    }
   ],
   "source": [
    "len(dets.values())"
   ]
  },
  {
   "cell_type": "code",
   "execution_count": 80,
   "metadata": {},
   "outputs": [
    {
     "data": {
      "text/plain": [
       "dict_keys(['PubmedArticle', 'PubmedBookArticle'])"
      ]
     },
     "execution_count": 80,
     "metadata": {},
     "output_type": "execute_result"
    }
   ],
   "source": [
    "dets.keys()"
   ]
  },
  {
   "cell_type": "code",
   "execution_count": 39,
   "metadata": {},
   "outputs": [
    {
     "data": {
      "text/plain": [
       "(10, 0)"
      ]
     },
     "execution_count": 39,
     "metadata": {},
     "output_type": "execute_result"
    }
   ],
   "source": [
    "len(list(dets.values())[0]), len(list(dets.values())[1])"
   ]
  },
  {
   "cell_type": "code",
   "execution_count": 42,
   "metadata": {},
   "outputs": [
    {
     "data": {
      "text/plain": [
       "10"
      ]
     },
     "execution_count": 42,
     "metadata": {},
     "output_type": "execute_result"
    }
   ],
   "source": [
    "len(dets['PubmedArticle'])"
   ]
  },
  {
   "cell_type": "code",
   "execution_count": 41,
   "metadata": {},
   "outputs": [
    {
     "data": {
      "text/plain": [
       "dict_keys(['MedlineCitation', 'PubmedData'])"
      ]
     },
     "execution_count": 41,
     "metadata": {},
     "output_type": "execute_result"
    }
   ],
   "source": [
    "dets['PubmedArticle'][0].keys()"
   ]
  },
  {
   "cell_type": "code",
   "execution_count": 46,
   "metadata": {},
   "outputs": [
    {
     "data": {
      "text/plain": [
       "'29311654'"
      ]
     },
     "execution_count": 46,
     "metadata": {},
     "output_type": "execute_result"
    }
   ],
   "source": [
    "str(dets['PubmedArticle'][0]['MedlineCitation']['PMID'])"
   ]
  },
  {
   "cell_type": "code",
   "execution_count": 48,
   "metadata": {},
   "outputs": [
    {
     "data": {
      "text/plain": [
       "DictElement({'Year': '2018', 'Month': '11', 'Day': '21'}, attributes={})"
      ]
     },
     "execution_count": 48,
     "metadata": {},
     "output_type": "execute_result"
    }
   ],
   "source": [
    "dets['PubmedArticle'][0]['MedlineCitation']['DateCompleted']"
   ]
  },
  {
   "cell_type": "code",
   "execution_count": 74,
   "metadata": {},
   "outputs": [
    {
     "data": {
      "text/plain": [
       "'2011-09-18'"
      ]
     },
     "execution_count": 74,
     "metadata": {},
     "output_type": "execute_result"
    }
   ],
   "source": [
    "date = dets['PubmedArticle'][0]['MedlineCitation']['Article']['ArticleDate'][0]\n",
    "'{}-{}-{}'.format(date['Year'], date['Month'], date['Day'])"
   ]
  },
  {
   "cell_type": "code",
   "execution_count": 60,
   "metadata": {},
   "outputs": [
    {
     "data": {
      "text/plain": [
       "'A human memory T cell subset with stem cell-like properties.'"
      ]
     },
     "execution_count": 60,
     "metadata": {},
     "output_type": "execute_result"
    }
   ],
   "source": [
    "dets['PubmedArticle'][0]['MedlineCitation']['Article']['ArticleTitle']"
   ]
  },
  {
   "cell_type": "code",
   "execution_count": 55,
   "metadata": {},
   "outputs": [
    {
     "data": {
      "text/plain": [
       "DictElement({'AbstractText': ['Increasing evidence suggests that T cells and glia participate in the process of neuropathic pain. However, little is known about the involvement of T cells or the interaction between glia and T cells at the molecular level. Here we investigated the phenotype of T cell infiltration into the spinal cord in inflammatory pain and explored potential crosstalk between glia and T cells. The establishment of monoarthritis produced T cell infiltration and astrocyte activation, exhibiting similar kinetics in the spinal cord. T-cell-deficient (Rag1<sup>-/-</sup>) mice significantly attenuated MA-induced mechanical allodynia and GFAP upregulation. Double immunofluorescence staining showed that CD3 mainly colocalized with interferon-gamma (IFN-γ). Western blot and flow cytometry showed that multiple intrathecal administrations of astrocytic inhibitor fluorocitrate decreased IFN-γ-production without decreasing T cell number in the spinal cord. Spinal IFN-γ blockade reduced MA-induced mechanical allodynia and astroglial activation. In contrast, treatment with rIFN-γ directly elicited persistent mechanical allodynia and upregulation of GFAP and pJNK1/2 in naïve rats. Furthermore, rIFN-γ upregulated the phosphorylation of NF-κB p65 in cultured astrocytes vitro and spinal dorsal horn vivo. The results suggest that Th1 cells and astrocytes maintain inflammatory pain and imply that there may be a positive feedback loop between these cells via IFN-γ.']}, attributes={})"
      ]
     },
     "execution_count": 55,
     "metadata": {},
     "output_type": "execute_result"
    }
   ],
   "source": [
    "dets['PubmedArticle'][0]['MedlineCitation']['Article']['Abstract']"
   ]
  },
  {
   "cell_type": "code",
   "execution_count": 71,
   "metadata": {},
   "outputs": [
    {
     "name": "stdout",
     "output_type": "stream",
     "text": [
      "DictElement({'RegistryNumber': '0', 'NameOfSubstance': StringElement('CCR7 protein, human', attributes={'UI': 'C515370'})}, attributes={})\n",
      "DictElement({'RegistryNumber': '0', 'NameOfSubstance': StringElement('CD28 Antigens', attributes={'UI': 'D018106'})}, attributes={})\n",
      "DictElement({'RegistryNumber': '0', 'NameOfSubstance': StringElement('Receptors, CCR7', attributes={'UI': 'D054400'})}, attributes={})\n",
      "DictElement({'RegistryNumber': '0', 'NameOfSubstance': StringElement('Receptors, Interleukin-7', attributes={'UI': 'D020395'})}, attributes={})\n",
      "DictElement({'RegistryNumber': '0', 'NameOfSubstance': StringElement('Tumor Necrosis Factor Receptor Superfamily, Member 7', attributes={'UI': 'D018127'})}, attributes={})\n",
      "DictElement({'RegistryNumber': '0', 'NameOfSubstance': StringElement('interleukin-7 receptor, alpha chain', attributes={'UI': 'C415350'})}, attributes={})\n",
      "DictElement({'RegistryNumber': '126880-86-2', 'NameOfSubstance': StringElement('L-Selectin', attributes={'UI': 'D019041'})}, attributes={})\n",
      "DictElement({'RegistryNumber': 'EC 3.1.3.48', 'NameOfSubstance': StringElement('Leukocyte Common Antigens', attributes={'UI': 'D017493'})}, attributes={})\n"
     ]
    }
   ],
   "source": [
    "print('\\n'.join([str(v) for v in dets['PubmedArticle'][0]['MedlineCitation']['ChemicalList']]))"
   ]
  },
  {
   "cell_type": "code",
   "execution_count": 86,
   "metadata": {},
   "outputs": [
    {
     "name": "stdout",
     "output_type": "stream",
     "text": [
      "DictElement({'QualifierName': [], 'DescriptorName': StringElement('Animals', attributes={'UI': 'D000818', 'MajorTopicYN': 'N'})}, attributes={})\n",
      "DictElement({'QualifierName': [StringElement('complications', attributes={'UI': 'Q000150', 'MajorTopicYN': 'Y'})], 'DescriptorName': StringElement('Arthritis', attributes={'UI': 'D001168', 'MajorTopicYN': 'N'})}, attributes={})\n",
      "DictElement({'QualifierName': [StringElement('metabolism', attributes={'UI': 'Q000378', 'MajorTopicYN': 'Y'})], 'DescriptorName': StringElement('Astrocytes', attributes={'UI': 'D001253', 'MajorTopicYN': 'N'})}, attributes={})\n",
      "DictElement({'QualifierName': [], 'DescriptorName': StringElement('Disease Models, Animal', attributes={'UI': 'D004195', 'MajorTopicYN': 'N'})}, attributes={})\n",
      "DictElement({'QualifierName': [StringElement('metabolism', attributes={'UI': 'Q000378', 'MajorTopicYN': 'N'})], 'DescriptorName': StringElement('Glial Fibrillary Acidic Protein', attributes={'UI': 'D005904', 'MajorTopicYN': 'N'})}, attributes={})\n",
      "DictElement({'QualifierName': [StringElement('genetics', attributes={'UI': 'Q000235', 'MajorTopicYN': 'N'}), StringElement('metabolism', attributes={'UI': 'Q000378', 'MajorTopicYN': 'N'})], 'DescriptorName': StringElement('Homeodomain Proteins', attributes={'UI': 'D018398', 'MajorTopicYN': 'N'})}, attributes={})\n",
      "DictElement({'QualifierName': [StringElement('etiology', attributes={'UI': 'Q000209', 'MajorTopicYN': 'Y'}), StringElement('metabolism', attributes={'UI': 'Q000378', 'MajorTopicYN': 'Y'})], 'DescriptorName': StringElement('Hyperalgesia', attributes={'UI': 'D006930', 'MajorTopicYN': 'N'})}, attributes={})\n",
      "DictElement({'QualifierName': [StringElement('metabolism', attributes={'UI': 'Q000378', 'MajorTopicYN': 'N'})], 'DescriptorName': StringElement('Interferon-gamma', attributes={'UI': 'D007371', 'MajorTopicYN': 'N'})}, attributes={})\n",
      "DictElement({'QualifierName': [StringElement('immunology', attributes={'UI': 'Q000276', 'MajorTopicYN': 'N'})], 'DescriptorName': StringElement('Lymphocyte Activation', attributes={'UI': 'D008213', 'MajorTopicYN': 'N'})}, attributes={})\n",
      "DictElement({'QualifierName': [StringElement('metabolism', attributes={'UI': 'Q000378', 'MajorTopicYN': 'N'})], 'DescriptorName': StringElement('NF-kappa B', attributes={'UI': 'D016328', 'MajorTopicYN': 'N'})}, attributes={})\n",
      "DictElement({'QualifierName': [StringElement('metabolism', attributes={'UI': 'Q000378', 'MajorTopicYN': 'N'})], 'DescriptorName': StringElement('Neuroglia', attributes={'UI': 'D009457', 'MajorTopicYN': 'N'})}, attributes={})\n",
      "DictElement({'QualifierName': [], 'DescriptorName': StringElement('Phosphorylation', attributes={'UI': 'D010766', 'MajorTopicYN': 'N'})}, attributes={})\n",
      "DictElement({'QualifierName': [], 'DescriptorName': StringElement('Rats', attributes={'UI': 'D051381', 'MajorTopicYN': 'N'})}, attributes={})\n",
      "DictElement({'QualifierName': [StringElement('immunology', attributes={'UI': 'Q000276', 'MajorTopicYN': 'N'}), StringElement('metabolism', attributes={'UI': 'Q000378', 'MajorTopicYN': 'Y'})], 'DescriptorName': StringElement('Spinal Cord', attributes={'UI': 'D013116', 'MajorTopicYN': 'N'})}, attributes={})\n",
      "DictElement({'QualifierName': [StringElement('metabolism', attributes={'UI': 'Q000378', 'MajorTopicYN': 'N'})], 'DescriptorName': StringElement('Spinal Cord Dorsal Horn', attributes={'UI': 'D066148', 'MajorTopicYN': 'N'})}, attributes={})\n",
      "DictElement({'QualifierName': [StringElement('immunology', attributes={'UI': 'Q000276', 'MajorTopicYN': 'N'}), StringElement('metabolism', attributes={'UI': 'Q000378', 'MajorTopicYN': 'N'}), StringElement('pathology', attributes={'UI': 'Q000473', 'MajorTopicYN': 'Y'})], 'DescriptorName': StringElement('T-Lymphocytes', attributes={'UI': 'D013601', 'MajorTopicYN': 'N'})}, attributes={})\n"
     ]
    }
   ],
   "source": [
    "print('\\n'.join([str(v) for v in dets['PubmedArticle'][0]['MedlineCitation']['MeshHeadingList']]))"
   ]
  },
  {
   "cell_type": "code",
   "execution_count": 87,
   "metadata": {},
   "outputs": [
    {
     "name": "stdout",
     "output_type": "stream",
     "text": [
      "Animals\n",
      "Arthritis/complications\n",
      "Astrocytes/metabolism\n",
      "Disease Models, Animal\n",
      "Glial Fibrillary Acidic Protein/metabolism\n",
      "Homeodomain Proteins/genetics/metabolism\n",
      "Hyperalgesia/etiology/metabolism\n",
      "Interferon-gamma/metabolism\n",
      "Lymphocyte Activation/immunology\n",
      "NF-kappa B/metabolism\n",
      "Neuroglia/metabolism\n",
      "Phosphorylation\n",
      "Rats\n",
      "Spinal Cord/immunology/metabolism\n",
      "Spinal Cord Dorsal Horn/metabolism\n",
      "T-Lymphocytes/immunology/metabolism/pathology\n"
     ]
    }
   ],
   "source": [
    "def get_mesh_terms(v):\n",
    "    return '/'.join([v['DescriptorName']] + v['QualifierName'])\n",
    "print('\\n'.join([get_mesh_terms(v) for v in dets['PubmedArticle'][0]['MedlineCitation']['MeshHeadingList']]))"
   ]
  },
  {
   "cell_type": "code",
   "execution_count": 81,
   "metadata": {},
   "outputs": [
    {
     "data": {
      "text/plain": [
       "DictElement({'ArticleDate': [], 'ELocationID': [StringElement('10.18097/PBMC20176303255', attributes={'EIdType': 'doi', 'ValidYN': 'Y'})], 'Language': ['rus'], 'Journal': DictElement({'ISSN': StringElement('2310-6972', attributes={'IssnType': 'Print'}), 'JournalIssue': DictElement({'Volume': '63', 'Issue': '3', 'PubDate': DictElement({'Year': '2017', 'Month': 'May'}, attributes={})}, attributes={'CitedMedium': 'Print'}), 'Title': 'Biomeditsinskaia khimiia', 'ISOAbbreviation': 'Biomed Khim'}, attributes={}), 'ArticleTitle': '[The influence of methylprednisolone on the ability of CD4<sup>+</sup>CD95<sup>+</sup>HLA-DR<sup>+</sup> T-cells to produce proinflammatory medators in cultures of TCR-activated CD3<sup>+</sup>CD45RO<sup>+</sup> T-lymphocytes from patients with rheumatoid arthritis].', 'Pagination': DictElement({'MedlinePgn': '255-265'}, attributes={}), 'Abstract': DictElement({'AbstractText': ['The effect of different concentrations of the glucocorticoid (GC) methylprednisolone (MP) on CD4+CD95+HLA-DR+ T-cells and their ability to produce proinflammatory mediators in cultures of TCR-stimulated CD3+CD45RO+ T-lymphocytes in the in vitro system was investigated. T cells were obtained from healthy donors and patients with rheumatoid arthritis (RA).Under conditions of TCR-activation, MP increased the number of CD4+HLA-DR+CD95+ cells in CD3+CD45RO+ cultures obtained from RA patients and did not change their content in the control group. In general, MP decreased production of proinflammatory factors (IFN-\\uf067, IL-2, IL-17, IL-21 and TNF-\\uf061) by TCR-activated CD3+CD45RO+ cells from healthy donors and RA, consistent with the overall immunosuppressive mechanism of GC action. The correlation between CD4+CD45RO+HLA-DR+CD95+ T-cell contents and parameters reflecting production of proinflammatory mediators (IL-17, IL-21 and TNF-\\uf061) in RA patients indicates maintenance of the pro-inflammatory potential of this T-cell population exposed to GC action. We suggest that relative resistance of CD4+CD45RO+CD95+HLA-DR+ T-cells of RA patients to the suppressor effect of GC leads to maintenance and even enhancement in the functional capacities of autoreactive cells in the pathogenesis of RA.']}, attributes={}), 'AuthorList': ListElement([DictElement({'Identifier': [], 'AffiliationInfo': [DictElement({'Identifier': [], 'Affiliation': 'Immanuel Kant Baltic Federal University.'}, attributes={})], 'LastName': 'Todosenko', 'ForeName': 'N M', 'Initials': 'NM'}, attributes={'ValidYN': 'Y'}), DictElement({'Identifier': [], 'AffiliationInfo': [DictElement({'Identifier': [], 'Affiliation': 'Immanuel Kant Baltic Federal University.'}, attributes={})], 'LastName': 'Khaziakhmatova', 'ForeName': 'O G', 'Initials': 'OG'}, attributes={'ValidYN': 'Y'}), DictElement({'Identifier': [], 'AffiliationInfo': [DictElement({'Identifier': [], 'Affiliation': 'Immanuel Kant Baltic Federal University.'}, attributes={})], 'LastName': 'Yurova', 'ForeName': 'K A', 'Initials': 'KA'}, attributes={'ValidYN': 'Y'}), DictElement({'Identifier': [], 'AffiliationInfo': [DictElement({'Identifier': [], 'Affiliation': 'Department of Rheumatology Regional Clinical Hospital, Kaliningrad, Russia.'}, attributes={})], 'LastName': 'Malinina', 'ForeName': 'I P', 'Initials': 'IP'}, attributes={'ValidYN': 'Y'}), DictElement({'Identifier': [], 'AffiliationInfo': [DictElement({'Identifier': [], 'Affiliation': 'Immanuel Kant Baltic Federal University.'}, attributes={})], 'LastName': 'Litvinova', 'ForeName': 'L S', 'Initials': 'LS'}, attributes={'ValidYN': 'Y'})], attributes={'CompleteYN': 'Y'}), 'PublicationTypeList': [StringElement('Journal Article', attributes={'UI': 'D016428'})], 'VernacularTitle': \"Vliianie metilprednizolona na sposobnost' CD4<sup>+</sup>CD95<sup>+</sup>HLA-DR<sup>+</sup> T-kletok v kul'turakh TCR-aktivirovannykh CD3<sup>+</sup>CD45RO<sup>+</sup> T-limfotsitov bol'nykh revmatoidnym artritom produtsirovat' provospalitel'nye mediatory.\"}, attributes={'PubModel': 'Print'})"
      ]
     },
     "execution_count": 81,
     "metadata": {},
     "output_type": "execute_result"
    }
   ],
   "source": [
    "dets['PubmedArticle'][0]['MedlineCitation']['Article']"
   ]
  },
  {
   "cell_type": "code",
   "execution_count": 82,
   "metadata": {},
   "outputs": [
    {
     "data": {
      "text/plain": [
       "DictElement({'CitationSubset': ['IM'], 'GeneralNote': [], 'OtherID': [], 'SpaceFlightMission': [], 'KeywordList': [ListElement([StringElement('CD95', attributes={'MajorTopicYN': 'N'}), StringElement('HLA-DR', attributes={'MajorTopicYN': 'N'}), StringElement('glucocorticoid hormones', attributes={'MajorTopicYN': 'N'}), StringElement('memory T cell', attributes={'MajorTopicYN': 'N'}), StringElement('rheumatoid arthritis', attributes={'MajorTopicYN': 'N'})], attributes={'Owner': 'NOTNLM'})], 'OtherAbstract': [DictElement({'AbstractText': [\"Otseneno vliianie raznykh kontsentratsiĭ gliukokortikoida (GK) metilprednizolona (MP) na izmenenie chisla CD4+CD95+HLA-DR+ T-kletok i ikh sposobnost' produtsirovat' provospalitel'nye mediatory in vitro v kul'turakh TCR-stimulirovannykh CD3+CD45RO+ T-limfotsitov. T-kletki poluchali ot zdorovykh donorov i bol'nykh revmatoidnym artritom (RA). Na fone TCR-aktivatsii MP povyshal chislo CD4+HLA-DR+CD95+ kletok v SD3+CD45RO+ kul'turakh, poluchennykh ot bol'nykh RA, i ne izmenial ikh soderzhanie u kontrol'noĭ gruppy. V tselom éffekty MP privodili k snizheniiu produktsii provospalitel'nykh faktorov (IFN-\\uf067, IL-2, IL-17, IL-21 i TNF-\\uf061) TCR-aktivirovannymi CD3+CD45RO+ kletkami zdorovykh donorov i bol'nykh RA, podtverzhdaia obshchiĭ immunosupressornyĭ mekhanizm deĭstviia GK. Vyiavlennye nami korreliatsii mezhdu soderzhaniem CD4+CD45RO+HLA-DR+CD95+ T-kletok s pokazateliami, otrazhaiushchimi produktsiiu provospalitel'nykh mediatorov (IL-17, IL-21 i TNF-\\uf061) u bol'nykh RA, svidetel'stvuiut o sokhranenii provospalitel'nogo potentsiala étoĭ populiatsii T-kletok na fone deĭstviia GK. My polagaem, chto otnositel'naia rezistentnost' CD4+CD45RO+CD95+HLA-DR+ T-kletok bol'nykh RA k supressornomu deĭstviiu GK privodit k sokhraneniiu i usileniiu funktsional'nykh vozmozhnosteĭ autoreaktivnykh kletok v patogeneze RA.\"]}, attributes={'Type': 'Publisher', 'Language': 'rus'})], 'PMID': StringElement('28781259', attributes={'Version': '1'}), 'DateCompleted': DictElement({'Year': '2017', 'Month': '09', 'Day': '12'}, attributes={}), 'DateRevised': DictElement({'Year': '2018', 'Month': '12', 'Day': '02'}, attributes={}), 'Article': DictElement({'ArticleDate': [], 'ELocationID': [StringElement('10.18097/PBMC20176303255', attributes={'EIdType': 'doi', 'ValidYN': 'Y'})], 'Language': ['rus'], 'Journal': DictElement({'ISSN': StringElement('2310-6972', attributes={'IssnType': 'Print'}), 'JournalIssue': DictElement({'Volume': '63', 'Issue': '3', 'PubDate': DictElement({'Year': '2017', 'Month': 'May'}, attributes={})}, attributes={'CitedMedium': 'Print'}), 'Title': 'Biomeditsinskaia khimiia', 'ISOAbbreviation': 'Biomed Khim'}, attributes={}), 'ArticleTitle': '[The influence of methylprednisolone on the ability of CD4<sup>+</sup>CD95<sup>+</sup>HLA-DR<sup>+</sup> T-cells to produce proinflammatory medators in cultures of TCR-activated CD3<sup>+</sup>CD45RO<sup>+</sup> T-lymphocytes from patients with rheumatoid arthritis].', 'Pagination': DictElement({'MedlinePgn': '255-265'}, attributes={}), 'Abstract': DictElement({'AbstractText': ['The effect of different concentrations of the glucocorticoid (GC) methylprednisolone (MP) on CD4+CD95+HLA-DR+ T-cells and their ability to produce proinflammatory mediators in cultures of TCR-stimulated CD3+CD45RO+ T-lymphocytes in the in vitro system was investigated. T cells were obtained from healthy donors and patients with rheumatoid arthritis (RA).Under conditions of TCR-activation, MP increased the number of CD4+HLA-DR+CD95+ cells in CD3+CD45RO+ cultures obtained from RA patients and did not change their content in the control group. In general, MP decreased production of proinflammatory factors (IFN-\\uf067, IL-2, IL-17, IL-21 and TNF-\\uf061) by TCR-activated CD3+CD45RO+ cells from healthy donors and RA, consistent with the overall immunosuppressive mechanism of GC action. The correlation between CD4+CD45RO+HLA-DR+CD95+ T-cell contents and parameters reflecting production of proinflammatory mediators (IL-17, IL-21 and TNF-\\uf061) in RA patients indicates maintenance of the pro-inflammatory potential of this T-cell population exposed to GC action. We suggest that relative resistance of CD4+CD45RO+CD95+HLA-DR+ T-cells of RA patients to the suppressor effect of GC leads to maintenance and even enhancement in the functional capacities of autoreactive cells in the pathogenesis of RA.']}, attributes={}), 'AuthorList': ListElement([DictElement({'Identifier': [], 'AffiliationInfo': [DictElement({'Identifier': [], 'Affiliation': 'Immanuel Kant Baltic Federal University.'}, attributes={})], 'LastName': 'Todosenko', 'ForeName': 'N M', 'Initials': 'NM'}, attributes={'ValidYN': 'Y'}), DictElement({'Identifier': [], 'AffiliationInfo': [DictElement({'Identifier': [], 'Affiliation': 'Immanuel Kant Baltic Federal University.'}, attributes={})], 'LastName': 'Khaziakhmatova', 'ForeName': 'O G', 'Initials': 'OG'}, attributes={'ValidYN': 'Y'}), DictElement({'Identifier': [], 'AffiliationInfo': [DictElement({'Identifier': [], 'Affiliation': 'Immanuel Kant Baltic Federal University.'}, attributes={})], 'LastName': 'Yurova', 'ForeName': 'K A', 'Initials': 'KA'}, attributes={'ValidYN': 'Y'}), DictElement({'Identifier': [], 'AffiliationInfo': [DictElement({'Identifier': [], 'Affiliation': 'Department of Rheumatology Regional Clinical Hospital, Kaliningrad, Russia.'}, attributes={})], 'LastName': 'Malinina', 'ForeName': 'I P', 'Initials': 'IP'}, attributes={'ValidYN': 'Y'}), DictElement({'Identifier': [], 'AffiliationInfo': [DictElement({'Identifier': [], 'Affiliation': 'Immanuel Kant Baltic Federal University.'}, attributes={})], 'LastName': 'Litvinova', 'ForeName': 'L S', 'Initials': 'LS'}, attributes={'ValidYN': 'Y'})], attributes={'CompleteYN': 'Y'}), 'PublicationTypeList': [StringElement('Journal Article', attributes={'UI': 'D016428'})], 'VernacularTitle': \"Vliianie metilprednizolona na sposobnost' CD4<sup>+</sup>CD95<sup>+</sup>HLA-DR<sup>+</sup> T-kletok v kul'turakh TCR-aktivirovannykh CD3<sup>+</sup>CD45RO<sup>+</sup> T-limfotsitov bol'nykh revmatoidnym artritom produtsirovat' provospalitel'nye mediatory.\"}, attributes={'PubModel': 'Print'}), 'MedlineJournalInfo': DictElement({'Country': 'Russia (Federation)', 'MedlineTA': 'Biomed Khim', 'NlmUniqueID': '101196966', 'ISSNLinking': '2310-6905'}, attributes={}), 'ChemicalList': [DictElement({'RegistryNumber': '0', 'NameOfSubstance': StringElement('Antibodies', attributes={'UI': 'D000906'})}, attributes={}), DictElement({'RegistryNumber': '0', 'NameOfSubstance': StringElement('CD2 Antigens', attributes={'UI': 'D018801'})}, attributes={}), DictElement({'RegistryNumber': '0', 'NameOfSubstance': StringElement('CD3 Complex', attributes={'UI': 'D017252'})}, attributes={}), DictElement({'RegistryNumber': '0', 'NameOfSubstance': StringElement('CD4 Antigens', attributes={'UI': 'D015704'})}, attributes={}), DictElement({'RegistryNumber': '0', 'NameOfSubstance': StringElement('FAS protein, human', attributes={'UI': 'C491901'})}, attributes={}), DictElement({'RegistryNumber': '0', 'NameOfSubstance': StringElement('Glucocorticoids', attributes={'UI': 'D005938'})}, attributes={}), DictElement({'RegistryNumber': '0', 'NameOfSubstance': StringElement('HLA-DR Antigens', attributes={'UI': 'D006684'})}, attributes={}), DictElement({'RegistryNumber': '0', 'NameOfSubstance': StringElement('Interleukin-17', attributes={'UI': 'D020381'})}, attributes={}), DictElement({'RegistryNumber': '0', 'NameOfSubstance': StringElement('Interleukin-2', attributes={'UI': 'D007376'})}, attributes={}), DictElement({'RegistryNumber': '0', 'NameOfSubstance': StringElement('Interleukins', attributes={'UI': 'D007378'})}, attributes={}), DictElement({'RegistryNumber': '0', 'NameOfSubstance': StringElement('Tumor Necrosis Factor-alpha', attributes={'UI': 'D014409'})}, attributes={}), DictElement({'RegistryNumber': '0', 'NameOfSubstance': StringElement('fas Receptor', attributes={'UI': 'D019014'})}, attributes={}), DictElement({'RegistryNumber': 'EC 3.1.3.48', 'NameOfSubstance': StringElement('Leukocyte Common Antigens', attributes={'UI': 'D017493'})}, attributes={}), DictElement({'RegistryNumber': 'MKM3CA6LT1', 'NameOfSubstance': StringElement('interleukin-21', attributes={'UI': 'C416243'})}, attributes={}), DictElement({'RegistryNumber': 'X4W7ZR7023', 'NameOfSubstance': StringElement('Methylprednisolone', attributes={'UI': 'D008775'})}, attributes={})], 'MeshHeadingList': [DictElement({'QualifierName': [], 'DescriptorName': StringElement('Adult', attributes={'UI': 'D000328', 'MajorTopicYN': 'N'})}, attributes={}), DictElement({'QualifierName': [StringElement('pharmacology', attributes={'UI': 'Q000494', 'MajorTopicYN': 'N'})], 'DescriptorName': StringElement('Antibodies', attributes={'UI': 'D000906', 'MajorTopicYN': 'N'})}, attributes={}), DictElement({'QualifierName': [StringElement('immunology', attributes={'UI': 'Q000276', 'MajorTopicYN': 'Y'}), StringElement('pathology', attributes={'UI': 'Q000473', 'MajorTopicYN': 'N'})], 'DescriptorName': StringElement('Arthritis, Rheumatoid', attributes={'UI': 'D001172', 'MajorTopicYN': 'N'})}, attributes={}), DictElement({'QualifierName': [StringElement('genetics', attributes={'UI': 'Q000235', 'MajorTopicYN': 'N'}), StringElement('immunology', attributes={'UI': 'Q000276', 'MajorTopicYN': 'N'})], 'DescriptorName': StringElement('CD2 Antigens', attributes={'UI': 'D018801', 'MajorTopicYN': 'N'})}, attributes={}), DictElement({'QualifierName': [StringElement('genetics', attributes={'UI': 'Q000235', 'MajorTopicYN': 'N'}), StringElement('immunology', attributes={'UI': 'Q000276', 'MajorTopicYN': 'N'})], 'DescriptorName': StringElement('CD3 Complex', attributes={'UI': 'D017252', 'MajorTopicYN': 'N'})}, attributes={}), DictElement({'QualifierName': [StringElement('genetics', attributes={'UI': 'Q000235', 'MajorTopicYN': 'N'}), StringElement('immunology', attributes={'UI': 'Q000276', 'MajorTopicYN': 'N'})], 'DescriptorName': StringElement('CD4 Antigens', attributes={'UI': 'D015704', 'MajorTopicYN': 'N'})}, attributes={}), DictElement({'QualifierName': [StringElement('drug effects', attributes={'UI': 'Q000187', 'MajorTopicYN': 'Y'}), StringElement('immunology', attributes={'UI': 'Q000276', 'MajorTopicYN': 'N'}), StringElement('pathology', attributes={'UI': 'Q000473', 'MajorTopicYN': 'N'})], 'DescriptorName': StringElement('CD4-Positive T-Lymphocytes', attributes={'UI': 'D015496', 'MajorTopicYN': 'N'})}, attributes={}), DictElement({'QualifierName': [], 'DescriptorName': StringElement('Case-Control Studies', attributes={'UI': 'D016022', 'MajorTopicYN': 'N'})}, attributes={}), DictElement({'QualifierName': [], 'DescriptorName': StringElement('Female', attributes={'UI': 'D005260', 'MajorTopicYN': 'N'})}, attributes={}), DictElement({'QualifierName': [StringElement('drug effects', attributes={'UI': 'Q000187', 'MajorTopicYN': 'Y'}), StringElement('immunology', attributes={'UI': 'Q000276', 'MajorTopicYN': 'N'})], 'DescriptorName': StringElement('Gene Expression Regulation', attributes={'UI': 'D005786', 'MajorTopicYN': 'N'})}, attributes={}), DictElement({'QualifierName': [StringElement('pharmacology', attributes={'UI': 'Q000494', 'MajorTopicYN': 'Y'})], 'DescriptorName': StringElement('Glucocorticoids', attributes={'UI': 'D005938', 'MajorTopicYN': 'N'})}, attributes={}), DictElement({'QualifierName': [StringElement('genetics', attributes={'UI': 'Q000235', 'MajorTopicYN': 'N'}), StringElement('immunology', attributes={'UI': 'Q000276', 'MajorTopicYN': 'N'})], 'DescriptorName': StringElement('HLA-DR Antigens', attributes={'UI': 'D006684', 'MajorTopicYN': 'N'})}, attributes={}), DictElement({'QualifierName': [], 'DescriptorName': StringElement('Humans', attributes={'UI': 'D006801', 'MajorTopicYN': 'N'})}, attributes={}), DictElement({'QualifierName': [StringElement('biosynthesis', attributes={'UI': 'Q000096', 'MajorTopicYN': 'N'}), StringElement('immunology', attributes={'UI': 'Q000276', 'MajorTopicYN': 'N'})], 'DescriptorName': StringElement('Interleukin-17', attributes={'UI': 'D020381', 'MajorTopicYN': 'N'})}, attributes={}), DictElement({'QualifierName': [StringElement('biosynthesis', attributes={'UI': 'Q000096', 'MajorTopicYN': 'N'}), StringElement('immunology', attributes={'UI': 'Q000276', 'MajorTopicYN': 'N'})], 'DescriptorName': StringElement('Interleukin-2', attributes={'UI': 'D007376', 'MajorTopicYN': 'N'})}, attributes={}), DictElement({'QualifierName': [StringElement('biosynthesis', attributes={'UI': 'Q000096', 'MajorTopicYN': 'N'}), StringElement('immunology', attributes={'UI': 'Q000276', 'MajorTopicYN': 'N'})], 'DescriptorName': StringElement('Interleukins', attributes={'UI': 'D007378', 'MajorTopicYN': 'N'})}, attributes={}), DictElement({'QualifierName': [StringElement('genetics', attributes={'UI': 'Q000235', 'MajorTopicYN': 'N'}), StringElement('immunology', attributes={'UI': 'Q000276', 'MajorTopicYN': 'N'})], 'DescriptorName': StringElement('Leukocyte Common Antigens', attributes={'UI': 'D017493', 'MajorTopicYN': 'N'})}, attributes={}), DictElement({'QualifierName': [], 'DescriptorName': StringElement('Lymphocyte Activation', attributes={'UI': 'D008213', 'MajorTopicYN': 'N'})}, attributes={}), DictElement({'QualifierName': [], 'DescriptorName': StringElement('Male', attributes={'UI': 'D008297', 'MajorTopicYN': 'N'})}, attributes={}), DictElement({'QualifierName': [StringElement('pharmacology', attributes={'UI': 'Q000494', 'MajorTopicYN': 'Y'})], 'DescriptorName': StringElement('Methylprednisolone', attributes={'UI': 'D008775', 'MajorTopicYN': 'N'})}, attributes={}), DictElement({'QualifierName': [], 'DescriptorName': StringElement('Primary Cell Culture', attributes={'UI': 'D061251', 'MajorTopicYN': 'N'})}, attributes={}), DictElement({'QualifierName': [], 'DescriptorName': StringElement('Signal Transduction', attributes={'UI': 'D015398', 'MajorTopicYN': 'N'})}, attributes={}), DictElement({'QualifierName': [StringElement('biosynthesis', attributes={'UI': 'Q000096', 'MajorTopicYN': 'N'}), StringElement('immunology', attributes={'UI': 'Q000276', 'MajorTopicYN': 'N'})], 'DescriptorName': StringElement('Tumor Necrosis Factor-alpha', attributes={'UI': 'D014409', 'MajorTopicYN': 'N'})}, attributes={}), DictElement({'QualifierName': [StringElement('genetics', attributes={'UI': 'Q000235', 'MajorTopicYN': 'N'}), StringElement('immunology', attributes={'UI': 'Q000276', 'MajorTopicYN': 'N'})], 'DescriptorName': StringElement('fas Receptor', attributes={'UI': 'D019014', 'MajorTopicYN': 'N'})}, attributes={})]}, attributes={'Status': 'MEDLINE', 'Owner': 'NLM'})"
      ]
     },
     "execution_count": 82,
     "metadata": {},
     "output_type": "execute_result"
    }
   ],
   "source": [
    "dets['PubmedArticle'][0]['MedlineCitation']"
   ]
  },
  {
   "cell_type": "code",
   "execution_count": null,
   "metadata": {},
   "outputs": [],
   "source": []
  }
 ],
 "metadata": {
  "kernelspec": {
   "display_name": "Python 3",
   "language": "python",
   "name": "python3"
  },
  "language_info": {
   "codemirror_mode": {
    "name": "ipython",
    "version": 3
   },
   "file_extension": ".py",
   "mimetype": "text/x-python",
   "name": "python",
   "nbconvert_exporter": "python",
   "pygments_lexer": "ipython3",
   "version": "3.6.7"
  }
 },
 "nbformat": 4,
 "nbformat_minor": 2
}
