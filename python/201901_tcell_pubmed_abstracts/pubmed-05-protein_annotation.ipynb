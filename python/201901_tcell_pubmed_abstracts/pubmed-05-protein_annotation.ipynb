{
 "cells": [
  {
   "cell_type": "code",
   "execution_count": 284,
   "metadata": {},
   "outputs": [],
   "source": [
    "%run utils.py\n",
    "%matplotlib inline\n",
    "import os.path as osp\n",
    "import pandas as pd\n",
    "import numpy as np"
   ]
  },
  {
   "cell_type": "code",
   "execution_count": 285,
   "metadata": {},
   "outputs": [
    {
     "name": "stdout",
     "output_type": "stream",
     "text": [
      "<class 'pandas.core.frame.DataFrame'>\n",
      "RangeIndex: 692 entries, 0 to 691\n",
      "Data columns (total 7 columns):\n",
      "exp_id               692 non-null object\n",
      "exp_name             692 non-null object\n",
      "investigators        692 non-null object\n",
      "researchers          692 non-null object\n",
      "attachments          288 non-null object\n",
      "n_fcs_files_total    692 non-null int64\n",
      "n_fcs_files_parse    692 non-null int64\n",
      "dtypes: int64(2), object(5)\n",
      "memory usage: 37.9+ KB\n"
     ]
    }
   ],
   "source": [
    "df_ds = pd.read_csv('/Users/eczech/repos/hammer/flowrepository-metadata-db/data/experiments.csv')\n",
    "df_ds.info()"
   ]
  },
  {
   "cell_type": "code",
   "execution_count": 286,
   "metadata": {},
   "outputs": [
    {
     "name": "stdout",
     "output_type": "stream",
     "text": [
      "<class 'pandas.core.frame.DataFrame'>\n",
      "RangeIndex: 260161 entries, 0 to 260160\n",
      "Data columns (total 8 columns):\n",
      "param_channel    260161 non-null object\n",
      "param_name       166228 non-null object\n",
      "filename         260161 non-null object\n",
      "exp_id           260161 non-null object\n",
      "term             260161 non-null object\n",
      "precedence       260161 non-null int64\n",
      "param            260161 non-null object\n",
      "resolution       260161 non-null object\n",
      "dtypes: int64(1), object(7)\n",
      "memory usage: 15.9+ MB\n"
     ]
    }
   ],
   "source": [
    "df_chl = pd.read_csv('/Users/eczech/repos/hammer/flowrepository-metadata-db/data/fcs_channels_resolved.csv')\n",
    "\n",
    "# Fix this Ki67 mapping omission\n",
    "mask = df_chl['param'] == 'KI67FITC'\n",
    "df_chl['param'] = df_chl['param'].where(~mask, 'KI67')\n",
    "df_chl['resolution'] = df_chl['resolution'].where(~mask, 'lookup')\n",
    "df_chl['term'] = df_chl['resolution'].where(~mask, 'KI67FITC')\n",
    "# df_chl[df_chl['param'].str.contains('KI67')].groupby(['exp_id', 'param']).size()\n",
    "\n",
    "df_chl.info()"
   ]
  },
  {
   "cell_type": "code",
   "execution_count": 287,
   "metadata": {},
   "outputs": [
    {
     "name": "stdout",
     "output_type": "stream",
     "text": [
      "<class 'pandas.core.frame.DataFrame'>\n",
      "RangeIndex: 61175 entries, 0 to 61174\n",
      "Data columns (total 8 columns):\n",
      "id            61175 non-null int64\n",
      "start         61175 non-null int64\n",
      "end           61175 non-null int64\n",
      "value         61175 non-null object\n",
      "class         61175 non-null object\n",
      "value_norm    61175 non-null object\n",
      "value_lbl     61175 non-null object\n",
      "value_sym     17228 non-null object\n",
      "dtypes: int64(3), object(5)\n",
      "memory usage: 3.7+ MB\n"
     ]
    }
   ],
   "source": [
    "df_pr = pd.read_csv(osp.join(DATA_DIR, 'pubmed_abstract_proteins_resolved.csv'))\n",
    "df_pr.info()"
   ]
  },
  {
   "cell_type": "markdown",
   "metadata": {},
   "source": [
    "## Define Target FlowRepository Experiments"
   ]
  },
  {
   "cell_type": "code",
   "execution_count": 288,
   "metadata": {},
   "outputs": [
    {
     "name": "stdout",
     "output_type": "stream",
     "text": [
      "Num OMIP datasets found: 22\n"
     ]
    },
    {
     "data": {
      "text/html": [
       "<div>\n",
       "<style scoped>\n",
       "    .dataframe tbody tr th:only-of-type {\n",
       "        vertical-align: middle;\n",
       "    }\n",
       "\n",
       "    .dataframe tbody tr th {\n",
       "        vertical-align: top;\n",
       "    }\n",
       "\n",
       "    .dataframe thead th {\n",
       "        text-align: right;\n",
       "    }\n",
       "</style>\n",
       "<table border=\"1\" class=\"dataframe\">\n",
       "  <thead>\n",
       "    <tr style=\"text-align: right;\">\n",
       "      <th></th>\n",
       "      <th>exp_id</th>\n",
       "      <th>exp_name</th>\n",
       "      <th>investigators</th>\n",
       "      <th>researchers</th>\n",
       "    </tr>\n",
       "  </thead>\n",
       "  <tbody>\n",
       "    <tr>\n",
       "      <th>34</th>\n",
       "      <td>FR-FCM-ZZ2L</td>\n",
       "      <td>OMIP-014: 12-color HVTN ICS assay</td>\n",
       "      <td>Stephen DeRosa</td>\n",
       "      <td>Stephen DeRosa</td>\n",
       "    </tr>\n",
       "    <tr>\n",
       "      <th>38</th>\n",
       "      <td>FR-FCM-ZZ2T</td>\n",
       "      <td>OMIP-016: Characterization of Antigen-Responsi...</td>\n",
       "      <td>Antonio Cosma</td>\n",
       "      <td>Antonio Cosma</td>\n",
       "    </tr>\n",
       "    <tr>\n",
       "      <th>40</th>\n",
       "      <td>FR-FCM-ZZ2V</td>\n",
       "      <td>OMIP-016: Characterization of Antigen-Responsi...</td>\n",
       "      <td>Antonio Cosma</td>\n",
       "      <td>Antonio Cosma</td>\n",
       "    </tr>\n",
       "    <tr>\n",
       "      <th>41</th>\n",
       "      <td>FR-FCM-ZZ3Z</td>\n",
       "      <td>OMIP-016: Characterization of Antigen-Responsi...</td>\n",
       "      <td>Antonio Cosma</td>\n",
       "      <td>Antonio Cosma</td>\n",
       "    </tr>\n",
       "    <tr>\n",
       "      <th>42</th>\n",
       "      <td>FR-FCM-ZZ3Y</td>\n",
       "      <td>OMIP-016: Characterization of Antigen-Responsi...</td>\n",
       "      <td>Antonio Cosma</td>\n",
       "      <td>Antonio Cosma</td>\n",
       "    </tr>\n",
       "    <tr>\n",
       "      <th>45</th>\n",
       "      <td>FR-FCM-ZZ36</td>\n",
       "      <td>OMIP-018: Phenotyping with Chemokine Receptors</td>\n",
       "      <td>Tess Brodie</td>\n",
       "      <td>Tess Brodie</td>\n",
       "    </tr>\n",
       "    <tr>\n",
       "      <th>114</th>\n",
       "      <td>FR-FCM-ZZ74</td>\n",
       "      <td>OMIP-023: 10-Color, 13 antibody panel for in-d...</td>\n",
       "      <td>Attila Tarnok</td>\n",
       "      <td>Jozsef Bocsi</td>\n",
       "    </tr>\n",
       "    <tr>\n",
       "      <th>146</th>\n",
       "      <td>FR-FCM-ZZ9H</td>\n",
       "      <td>OMIP-021: Innate-like T-cell Panel</td>\n",
       "      <td>Nicholas Gherardin</td>\n",
       "      <td>Nicholas Gherardin</td>\n",
       "    </tr>\n",
       "    <tr>\n",
       "      <th>151</th>\n",
       "      <td>FR-FCM-ZZAZ</td>\n",
       "      <td>OMIP-022: Exemplary Data for comprehensive ass...</td>\n",
       "      <td>Andrew Graves</td>\n",
       "      <td>Andrew Graves</td>\n",
       "    </tr>\n",
       "    <tr>\n",
       "      <th>213</th>\n",
       "      <td>FR-FCM-ZZEB</td>\n",
       "      <td>OMIP-024: Pan-leukocyte immunophenotypic chara...</td>\n",
       "      <td>Stephen DeRosa</td>\n",
       "      <td>Gemma Moncunill</td>\n",
       "    </tr>\n",
       "    <tr>\n",
       "      <th>214</th>\n",
       "      <td>FR-FCM-ZZEC</td>\n",
       "      <td>OMIP-025: Evaluation of human T- and NK-cell r...</td>\n",
       "      <td>Stephen DeRosa</td>\n",
       "      <td>Gemma Moncunill</td>\n",
       "    </tr>\n",
       "    <tr>\n",
       "      <th>273</th>\n",
       "      <td>FR-FCM-ZZWU</td>\n",
       "      <td>OMIP-030: Characterization of eight major huma...</td>\n",
       "      <td>Gerhard Wingender</td>\n",
       "      <td>Gerhard Wingender</td>\n",
       "    </tr>\n",
       "    <tr>\n",
       "      <th>293</th>\n",
       "      <td>FR-FCM-ZZK4</td>\n",
       "      <td>OMIP-028: Rhesus macaque NK cell subset</td>\n",
       "      <td>Eva Rakasz</td>\n",
       "      <td>Eva Rakasz</td>\n",
       "    </tr>\n",
       "    <tr>\n",
       "      <th>320</th>\n",
       "      <td>FR-FCM-ZZNK</td>\n",
       "      <td>OMIP 026 Manuscript Resub</td>\n",
       "      <td>Adam Mailloux</td>\n",
       "      <td>Adam Mailloux</td>\n",
       "    </tr>\n",
       "    <tr>\n",
       "      <th>330</th>\n",
       "      <td>FR-FCM-ZZX9</td>\n",
       "      <td>OMIP-035: Nonhuman Primate NK cell functional ...</td>\n",
       "      <td>Eva Rakasz</td>\n",
       "      <td>Eva Rakasz</td>\n",
       "    </tr>\n",
       "    <tr>\n",
       "      <th>346</th>\n",
       "      <td>FR-FCM-ZZQP</td>\n",
       "      <td>OMIP-036: Coinhibitory Receptors</td>\n",
       "      <td>Zachary Healy</td>\n",
       "      <td>Zachary Healy</td>\n",
       "    </tr>\n",
       "    <tr>\n",
       "      <th>362</th>\n",
       "      <td>FR-FCM-ZZSC</td>\n",
       "      <td>OMIP-037: 16-color panel to measure inhibitory...</td>\n",
       "      <td>Anna Belkina</td>\n",
       "      <td>Anna Belkina</td>\n",
       "    </tr>\n",
       "    <tr>\n",
       "      <th>374</th>\n",
       "      <td>FR-FCM-ZZTJ</td>\n",
       "      <td>Optimization of mass cytometry sample cryopres...</td>\n",
       "      <td>Hermi Rizal Sumatoh</td>\n",
       "      <td>Hermi Rizal Sumatoh</td>\n",
       "    </tr>\n",
       "    <tr>\n",
       "      <th>376</th>\n",
       "      <td>FR-FCM-ZZTM</td>\n",
       "      <td>Data from Wong et al Immunity  2016</td>\n",
       "      <td>Evan Newell</td>\n",
       "      <td>Evan Newell</td>\n",
       "    </tr>\n",
       "    <tr>\n",
       "      <th>443</th>\n",
       "      <td>FR-FCM-ZYY6</td>\n",
       "      <td>OMIP-039: Detection and analysis of human adap...</td>\n",
       "      <td>Quirin Hammer</td>\n",
       "      <td>Quirin Hammer</td>\n",
       "    </tr>\n",
       "    <tr>\n",
       "      <th>486</th>\n",
       "      <td>FR-FCM-ZY6D</td>\n",
       "      <td>OMIP-040: Henry et al - CytoPartA - 2017 - huEpi</td>\n",
       "      <td>Gervaise Henry</td>\n",
       "      <td>Gervaise Henry</td>\n",
       "    </tr>\n",
       "    <tr>\n",
       "      <th>562</th>\n",
       "      <td>FR-FCM-ZYBP</td>\n",
       "      <td>OMIP-043: Identification of Human Antibody Sec...</td>\n",
       "      <td>Jeff Carrell</td>\n",
       "      <td>Jeff Carrell</td>\n",
       "    </tr>\n",
       "    <tr>\n",
       "      <th>567</th>\n",
       "      <td>FR-FCM-ZYC2</td>\n",
       "      <td>OMIP-044: 28-color immunophenotyping of the hu...</td>\n",
       "      <td>Florian Mair</td>\n",
       "      <td>Florian Mair</td>\n",
       "    </tr>\n",
       "    <tr>\n",
       "      <th>596</th>\n",
       "      <td>FR-FCM-ZYFB</td>\n",
       "      <td>OMIP-047: High-dimensional phenotypic characte...</td>\n",
       "      <td>Thomas Liechti</td>\n",
       "      <td>Thomas Liechti</td>\n",
       "    </tr>\n",
       "  </tbody>\n",
       "</table>\n",
       "</div>"
      ],
      "text/plain": [
       "          exp_id                                           exp_name  \\\n",
       "34   FR-FCM-ZZ2L                  OMIP-014: 12-color HVTN ICS assay   \n",
       "38   FR-FCM-ZZ2T  OMIP-016: Characterization of Antigen-Responsi...   \n",
       "40   FR-FCM-ZZ2V  OMIP-016: Characterization of Antigen-Responsi...   \n",
       "41   FR-FCM-ZZ3Z  OMIP-016: Characterization of Antigen-Responsi...   \n",
       "42   FR-FCM-ZZ3Y  OMIP-016: Characterization of Antigen-Responsi...   \n",
       "45   FR-FCM-ZZ36     OMIP-018: Phenotyping with Chemokine Receptors   \n",
       "114  FR-FCM-ZZ74  OMIP-023: 10-Color, 13 antibody panel for in-d...   \n",
       "146  FR-FCM-ZZ9H                 OMIP-021: Innate-like T-cell Panel   \n",
       "151  FR-FCM-ZZAZ  OMIP-022: Exemplary Data for comprehensive ass...   \n",
       "213  FR-FCM-ZZEB  OMIP-024: Pan-leukocyte immunophenotypic chara...   \n",
       "214  FR-FCM-ZZEC  OMIP-025: Evaluation of human T- and NK-cell r...   \n",
       "273  FR-FCM-ZZWU  OMIP-030: Characterization of eight major huma...   \n",
       "293  FR-FCM-ZZK4            OMIP-028: Rhesus macaque NK cell subset   \n",
       "320  FR-FCM-ZZNK                          OMIP 026 Manuscript Resub   \n",
       "330  FR-FCM-ZZX9  OMIP-035: Nonhuman Primate NK cell functional ...   \n",
       "346  FR-FCM-ZZQP                   OMIP-036: Coinhibitory Receptors   \n",
       "362  FR-FCM-ZZSC  OMIP-037: 16-color panel to measure inhibitory...   \n",
       "374  FR-FCM-ZZTJ  Optimization of mass cytometry sample cryopres...   \n",
       "376  FR-FCM-ZZTM                Data from Wong et al Immunity  2016   \n",
       "443  FR-FCM-ZYY6  OMIP-039: Detection and analysis of human adap...   \n",
       "486  FR-FCM-ZY6D   OMIP-040: Henry et al - CytoPartA - 2017 - huEpi   \n",
       "562  FR-FCM-ZYBP  OMIP-043: Identification of Human Antibody Sec...   \n",
       "567  FR-FCM-ZYC2  OMIP-044: 28-color immunophenotyping of the hu...   \n",
       "596  FR-FCM-ZYFB  OMIP-047: High-dimensional phenotypic characte...   \n",
       "\n",
       "           investigators          researchers  \n",
       "34        Stephen DeRosa       Stephen DeRosa  \n",
       "38         Antonio Cosma        Antonio Cosma  \n",
       "40         Antonio Cosma        Antonio Cosma  \n",
       "41         Antonio Cosma        Antonio Cosma  \n",
       "42         Antonio Cosma        Antonio Cosma  \n",
       "45           Tess Brodie          Tess Brodie  \n",
       "114        Attila Tarnok         Jozsef Bocsi  \n",
       "146   Nicholas Gherardin   Nicholas Gherardin  \n",
       "151        Andrew Graves        Andrew Graves  \n",
       "213       Stephen DeRosa      Gemma Moncunill  \n",
       "214       Stephen DeRosa      Gemma Moncunill  \n",
       "273    Gerhard Wingender    Gerhard Wingender  \n",
       "293           Eva Rakasz           Eva Rakasz  \n",
       "320        Adam Mailloux        Adam Mailloux  \n",
       "330           Eva Rakasz           Eva Rakasz  \n",
       "346        Zachary Healy        Zachary Healy  \n",
       "362         Anna Belkina         Anna Belkina  \n",
       "374  Hermi Rizal Sumatoh  Hermi Rizal Sumatoh  \n",
       "376          Evan Newell          Evan Newell  \n",
       "443        Quirin Hammer        Quirin Hammer  \n",
       "486       Gervaise Henry       Gervaise Henry  \n",
       "562         Jeff Carrell         Jeff Carrell  \n",
       "567         Florian Mair         Florian Mair  \n",
       "596       Thomas Liechti       Thomas Liechti  "
      ]
     },
     "execution_count": 288,
     "metadata": {},
     "output_type": "execute_result"
    }
   ],
   "source": [
    "exp_ids = list(df_ds[df_ds['exp_name'].str.contains('OMIP')]['exp_id'].unique())\n",
    "print('Num OMIP datasets found:', len(exp_ids))\n",
    "exp_ids += [\n",
    "    'FR-FCM-ZZTJ', # Newell 2016 (Optimization of mass cytometry sample cryopreservation after staining)\n",
    "    'FR-FCM-ZZTM'  # Newell 2016 (Analysis of lymphocyte composition across human tissues using two mass cytometry panels)\n",
    "]\n",
    "df_ds_tgt = df_ds[df_ds['exp_id'].isin(exp_ids)].filter(regex='exp|inves|research')\n",
    "df_ds_tgt"
   ]
  },
  {
   "cell_type": "code",
   "execution_count": 289,
   "metadata": {},
   "outputs": [
    {
     "data": {
      "text/plain": [
       "channel     5391\n",
       "lookup      4998\n",
       "original     338\n",
       "Name: resolution, dtype: int64"
      ]
     },
     "execution_count": 289,
     "metadata": {},
     "output_type": "execute_result"
    }
   ],
   "source": [
    "df_chl[df_chl['exp_id'].isin(exp_ids)]['resolution'].value_counts()"
   ]
  },
  {
   "cell_type": "markdown",
   "metadata": {},
   "source": [
    "## Merge to Parameters"
   ]
  },
  {
   "cell_type": "code",
   "execution_count": 290,
   "metadata": {},
   "outputs": [
    {
     "data": {
      "text/html": [
       "<div>\n",
       "<style scoped>\n",
       "    .dataframe tbody tr th:only-of-type {\n",
       "        vertical-align: middle;\n",
       "    }\n",
       "\n",
       "    .dataframe tbody tr th {\n",
       "        vertical-align: top;\n",
       "    }\n",
       "\n",
       "    .dataframe thead th {\n",
       "        text-align: right;\n",
       "    }\n",
       "</style>\n",
       "<table border=\"1\" class=\"dataframe\">\n",
       "  <thead>\n",
       "    <tr style=\"text-align: right;\">\n",
       "      <th></th>\n",
       "      <th>exp_id</th>\n",
       "      <th>exp_name</th>\n",
       "      <th>investigators</th>\n",
       "      <th>researchers</th>\n",
       "      <th>param</th>\n",
       "      <th>resolution</th>\n",
       "    </tr>\n",
       "  </thead>\n",
       "  <tbody>\n",
       "    <tr>\n",
       "      <th>0</th>\n",
       "      <td>FR-FCM-ZZ2L</td>\n",
       "      <td>OMIP-014: 12-color HVTN ICS assay</td>\n",
       "      <td>Stephen DeRosa</td>\n",
       "      <td>Stephen DeRosa</td>\n",
       "      <td>Time</td>\n",
       "      <td>lookup</td>\n",
       "    </tr>\n",
       "    <tr>\n",
       "      <th>44</th>\n",
       "      <td>FR-FCM-ZZ2L</td>\n",
       "      <td>OMIP-014: 12-color HVTN ICS assay</td>\n",
       "      <td>Stephen DeRosa</td>\n",
       "      <td>Stephen DeRosa</td>\n",
       "      <td>CD8</td>\n",
       "      <td>lookup</td>\n",
       "    </tr>\n",
       "    <tr>\n",
       "      <th>56</th>\n",
       "      <td>FR-FCM-ZZ2L</td>\n",
       "      <td>OMIP-014: 12-color HVTN ICS assay</td>\n",
       "      <td>Stephen DeRosa</td>\n",
       "      <td>Stephen DeRosa</td>\n",
       "      <td>CD14</td>\n",
       "      <td>lookup</td>\n",
       "    </tr>\n",
       "    <tr>\n",
       "      <th>75</th>\n",
       "      <td>FR-FCM-ZZ2L</td>\n",
       "      <td>OMIP-014: 12-color HVTN ICS assay</td>\n",
       "      <td>Stephen DeRosa</td>\n",
       "      <td>Stephen DeRosa</td>\n",
       "      <td>CD4</td>\n",
       "      <td>lookup</td>\n",
       "    </tr>\n",
       "    <tr>\n",
       "      <th>109</th>\n",
       "      <td>FR-FCM-ZZ2L</td>\n",
       "      <td>OMIP-014: 12-color HVTN ICS assay</td>\n",
       "      <td>Stephen DeRosa</td>\n",
       "      <td>Stephen DeRosa</td>\n",
       "      <td>CD3</td>\n",
       "      <td>lookup</td>\n",
       "    </tr>\n",
       "  </tbody>\n",
       "</table>\n",
       "</div>"
      ],
      "text/plain": [
       "          exp_id                           exp_name   investigators  \\\n",
       "0    FR-FCM-ZZ2L  OMIP-014: 12-color HVTN ICS assay  Stephen DeRosa   \n",
       "44   FR-FCM-ZZ2L  OMIP-014: 12-color HVTN ICS assay  Stephen DeRosa   \n",
       "56   FR-FCM-ZZ2L  OMIP-014: 12-color HVTN ICS assay  Stephen DeRosa   \n",
       "75   FR-FCM-ZZ2L  OMIP-014: 12-color HVTN ICS assay  Stephen DeRosa   \n",
       "109  FR-FCM-ZZ2L  OMIP-014: 12-color HVTN ICS assay  Stephen DeRosa   \n",
       "\n",
       "        researchers param resolution  \n",
       "0    Stephen DeRosa  Time     lookup  \n",
       "44   Stephen DeRosa   CD8     lookup  \n",
       "56   Stephen DeRosa  CD14     lookup  \n",
       "75   Stephen DeRosa   CD4     lookup  \n",
       "109  Stephen DeRosa   CD3     lookup  "
      ]
     },
     "execution_count": 290,
     "metadata": {},
     "output_type": "execute_result"
    }
   ],
   "source": [
    "df_chl_ds = pd.merge(df_ds_tgt, df_chl[['exp_id', 'param', 'resolution']], on='exp_id', how='left')\n",
    "df_chl_ds = df_chl_ds.drop_duplicates()\n",
    "df_chl_ds = df_chl_ds[df_chl_ds['resolution'] == 'lookup']\n",
    "df_chl_ds.head()"
   ]
  },
  {
   "cell_type": "code",
   "execution_count": 291,
   "metadata": {},
   "outputs": [
    {
     "name": "stdout",
     "output_type": "stream",
     "text": [
      "Number of OMIP datasets after param resolution filtering: 22\n",
      "Number of experiments total after param resolution filtering: 24\n"
     ]
    }
   ],
   "source": [
    "print(\n",
    "    'Number of OMIP datasets after param resolution filtering: {}'\n",
    "    .format(df_chl_ds[df_chl_ds['exp_name'].str.contains('OMIP')]['exp_id'].nunique())\n",
    ")\n",
    "print(\n",
    "    'Number of experiments total after param resolution filtering: {}'\n",
    "    .format(df_chl_ds['exp_id'].nunique())\n",
    ")"
   ]
  },
  {
   "cell_type": "markdown",
   "metadata": {},
   "source": [
    "### Mappings\n",
    "\n",
    "FlowRepository -> Pubmed"
   ]
  },
  {
   "cell_type": "code",
   "execution_count": 292,
   "metadata": {},
   "outputs": [
    {
     "data": {
      "text/plain": [
       "array(['Time', 'CD8', 'CD14', 'CD4', 'CD3', 'TNFa', 'IFNG', 'IL4', 'IL2',\n",
       "       'CD154', 'CD107A', 'CD45RA', 'CD69', 'CD25', 'CD38', 'CD16',\n",
       "       'CD127', 'CD45', 'FEZF2', 'CD161', 'CD27', 'CD8B', 'CD45RO',\n",
       "       'TCR-gd', 'TCR', 'CD28', 'CD197', 'IL17A', 'IFNA1', 'IL22', 'TNF',\n",
       "       'CD19', 'HLADR', 'CD56', 'CD57', 'TCR-Vd2', 'IL21', 'CD185',\n",
       "       'SNCA', 'CD196', 'CD183', 'CD194', 'CD20', 'CCR10', 'Ki67',\n",
       "       'CD279', 'CD335', 'DAPI', 'CD159A', 'ADI1', 'GranzymeB', 'KLRG1',\n",
       "       'CD160', 'CD272', 'CD366', 'GRN', 'CD152', 'STMN1', 'NOC2L',\n",
       "       'CD223', 'TIGIT', 'CD137', 'Event_length', 'BC', 'MIP', 'CXCL8',\n",
       "       'CD103', 'CD184', 'INTB7', 'CDW199', 'TCR-Vd1', 'TCR-Va7', 'CD192',\n",
       "       'IL10', 'CSF2', 'CX3CR1', 'DNA', 'Cisplatin', 'CD29', 'CD62L',\n",
       "       'CD49A', 'CD186', 'CD278', 'CD95', 'CD31', 'CD49D', 'CD195',\n",
       "       'IFNg', 'IL17F', 'IL5', 'IL9', 'CD2', 'CD337', 'CD7', 'CD85',\n",
       "       'CD328', 'CD326', 'CD271', 'CD26', 'IgD', 'IgA', 'CD15', 'IgG',\n",
       "       'IgM', 'CD32', 'CD1', 'CD11C', 'CD85K', 'CD141', 'CD172A', 'CD11B',\n",
       "       'CD123', 'CD40', 'CD86', 'CD163', 'CD80', 'CD10', 'CD21'],\n",
       "      dtype=object)"
      ]
     },
     "execution_count": 292,
     "metadata": {},
     "output_type": "execute_result"
    }
   ],
   "source": [
    "fr_prs = df_chl_ds['param'].unique()\n",
    "fr_prs"
   ]
  },
  {
   "cell_type": "code",
   "execution_count": 293,
   "metadata": {},
   "outputs": [
    {
     "data": {
      "text/plain": [
       "array(['ADI1', 'BC', 'CD172A', 'CD271', 'CD32', 'CD326', 'CD8B',\n",
       "       'Cisplatin', 'DAPI', 'DNA', 'Event_length', 'FEZF2', 'GRN',\n",
       "       'GranzymeB', 'IFNA1', 'IFNG', 'IFNg', 'INTB7', 'Ki67', 'MIP',\n",
       "       'NOC2L', 'SNCA', 'STMN1', 'TCR-Va7', 'TCR-Vd1', 'TCR-Vd2',\n",
       "       'TCR-gd', 'TNFa', 'Time'], dtype='<U12')"
      ]
     },
     "execution_count": 293,
     "metadata": {},
     "output_type": "execute_result"
    }
   ],
   "source": [
    "# Search for proteins in the list above not present in pubmed data\n",
    "np.unique([pr for pr in fr_prs if pr not in df_pr['value_lbl'].unique()])"
   ]
  },
  {
   "cell_type": "code",
   "execution_count": 294,
   "metadata": {},
   "outputs": [],
   "source": [
    "# df_pr[df_pr['value_lbl'].str.contains('TNF')]['value_lbl'].value_counts()"
   ]
  },
  {
   "cell_type": "code",
   "execution_count": 295,
   "metadata": {},
   "outputs": [
    {
     "data": {
      "text/plain": [
       "14"
      ]
     },
     "execution_count": 295,
     "metadata": {},
     "output_type": "execute_result"
    }
   ],
   "source": [
    "# Create a map to resolve the above\n",
    "m_flow_rep = {\n",
    "    'TCR-Va7': 'Vα7.2',\n",
    "    'TCR-Vd1': 'Vδ1',\n",
    "    'TCR-Vd2': 'Vδ2',\n",
    "    'TCR-gd': 'TCRγδ',\n",
    "    'INTB7': 'INTEGRINβ7',\n",
    "    'CD172A': 'SIRPα',\n",
    "    'CD8B' : 'CD8β',\n",
    "    'GranzymeB': 'GRZB',\n",
    "    'IFNg': 'IFNγ',\n",
    "    'IFNG': 'IFNγ',\n",
    "    'IFNA1': 'IFNα',\n",
    "    'Ki67': 'KI67',\n",
    "    'MIP': 'MIP1β',\n",
    "    'TNFa': 'TNFα'\n",
    "}\n",
    "len(m_flow_rep)"
   ]
  },
  {
   "cell_type": "code",
   "execution_count": 296,
   "metadata": {},
   "outputs": [],
   "source": [
    "# Add a field to be used for join to pubmed protein labels\n",
    "df_chl_ds['candidate'] = df_chl_ds['param'].apply(lambda v: m_flow_rep.get(v, v))\n",
    "# Generate mask representing record matches\n",
    "mask = df_chl_ds['candidate'].isin(df_pr['value_lbl'].unique())"
   ]
  },
  {
   "cell_type": "code",
   "execution_count": 297,
   "metadata": {},
   "outputs": [
    {
     "data": {
      "text/plain": [
       "Time            24\n",
       "Event_length     2\n",
       "Cisplatin        2\n",
       "DNA              2\n",
       "SNCA             2\n",
       "DAPI             2\n",
       "BC               2\n",
       "FEZF2            1\n",
       "GRN              1\n",
       "ADI1             1\n",
       "CD271            1\n",
       "CD32             1\n",
       "NOC2L            1\n",
       "CD326            1\n",
       "STMN1            1\n",
       "Name: candidate, dtype: int64"
      ]
     },
     "execution_count": 297,
     "metadata": {},
     "output_type": "execute_result"
    }
   ],
   "source": [
    "# Check which parameters didn't match (make sure they're not important)\n",
    "df_chl_ds[~mask]['candidate'].value_counts()"
   ]
  },
  {
   "cell_type": "code",
   "execution_count": 298,
   "metadata": {},
   "outputs": [
    {
     "name": "stdout",
     "output_type": "stream",
     "text": [
      "Number of lost datasets: 2\n"
     ]
    },
    {
     "data": {
      "text/html": [
       "<div>\n",
       "<style scoped>\n",
       "    .dataframe tbody tr th:only-of-type {\n",
       "        vertical-align: middle;\n",
       "    }\n",
       "\n",
       "    .dataframe tbody tr th {\n",
       "        vertical-align: top;\n",
       "    }\n",
       "\n",
       "    .dataframe thead th {\n",
       "        text-align: right;\n",
       "    }\n",
       "</style>\n",
       "<table border=\"1\" class=\"dataframe\">\n",
       "  <thead>\n",
       "    <tr style=\"text-align: right;\">\n",
       "      <th></th>\n",
       "      <th>exp_id</th>\n",
       "      <th>exp_name</th>\n",
       "    </tr>\n",
       "  </thead>\n",
       "  <tbody>\n",
       "    <tr>\n",
       "      <th>1378</th>\n",
       "      <td>FR-FCM-ZZ36</td>\n",
       "      <td>OMIP-018: Phenotyping with Chemokine Receptors</td>\n",
       "    </tr>\n",
       "    <tr>\n",
       "      <th>3303</th>\n",
       "      <td>FR-FCM-ZZNK</td>\n",
       "      <td>OMIP 026 Manuscript Resub</td>\n",
       "    </tr>\n",
       "  </tbody>\n",
       "</table>\n",
       "</div>"
      ],
      "text/plain": [
       "           exp_id                                        exp_name\n",
       "1378  FR-FCM-ZZ36  OMIP-018: Phenotyping with Chemokine Receptors\n",
       "3303  FR-FCM-ZZNK                       OMIP 026 Manuscript Resub"
      ]
     },
     "execution_count": 298,
     "metadata": {},
     "output_type": "execute_result"
    }
   ],
   "source": [
    "# Check for lost datasets\n",
    "df_lost = df_chl_ds[~df_chl_ds['exp_id'].isin(df_chl_ds[mask]['exp_id'].unique())]\n",
    "df_lost = df_lost[['exp_id', 'exp_name']].drop_duplicates()\n",
    "print('Number of lost datasets:', len(df_lost))\n",
    "df_lost"
   ]
  },
  {
   "cell_type": "code",
   "execution_count": 299,
   "metadata": {},
   "outputs": [
    {
     "data": {
      "text/plain": [
       "param              resolution\n",
       "APC-A              channel       27\n",
       "APC-Cy7-A          channel       25\n",
       "Alexa Fluor 405-A  channel       17\n",
       "Alexa Fluor 430-A  channel       17\n",
       "Alexa Fluor 488-A  channel       25\n",
       "Alexa Fluor 700-A  channel        8\n",
       "BUV395-A           channel        8\n",
       "BUV737-A           channel       15\n",
       "BUV800-A           channel       10\n",
       "BV510-A            channel        8\n",
       "BV605-A            channel        9\n",
       "BV711-A            channel        6\n",
       "BV786-A            channel        9\n",
       "DAPI               lookup        18\n",
       "Event #            channel       14\n",
       "FSC-A              channel       35\n",
       "FSC-H              channel       20\n",
       "FSC-W              channel       20\n",
       "PE-A               channel       23\n",
       "PE-Alexa 594-A     channel       10\n",
       "PE-CF594-A         channel        1\n",
       "PE-Cy5-5-A         channel       17\n",
       "PE-Cy5-A           channel       17\n",
       "PE-Cy7-A           channel       30\n",
       "PE-Texas Red-A     channel       17\n",
       "PerCP-Cy5-5-A      channel       27\n",
       "Qdot 605-A         channel       17\n",
       "Qdot 655-A         channel       17\n",
       "Qdot 800-A         channel       17\n",
       "SSC-A              channel       35\n",
       "SSC-H              channel       20\n",
       "SSC-W              channel       20\n",
       "SampleID           channel       15\n",
       "Time               lookup        20\n",
       "dtype: int64"
      ]
     },
     "execution_count": 299,
     "metadata": {},
     "output_type": "execute_result"
    }
   ],
   "source": [
    "# At TOW, the 2 datasets above did not label parameters in their FCS files\n",
    "df_chl[df_chl['exp_id'].isin(df_miss_omip['exp_id'])].groupby(['param', 'resolution']).size()"
   ]
  },
  {
   "cell_type": "code",
   "execution_count": 300,
   "metadata": {},
   "outputs": [
    {
     "data": {
      "text/plain": [
       "<matplotlib.axes._subplots.AxesSubplot at 0x11b8554a8>"
      ]
     },
     "execution_count": 300,
     "metadata": {},
     "output_type": "execute_result"
    },
    {
     "data": {
      "image/png": "[encoded data removed]",
      "text/plain": [
       "<Figure size 1296x216 with 1 Axes>"
      ]
     },
     "metadata": {
      "needs_background": "light"
     },
     "output_type": "display_data"
    }
   ],
   "source": [
    "# Check the parameters that did match\n",
    "df_chl_ds[mask]['candidate'].value_counts().plot(kind='bar', figsize=(18, 3))"
   ]
  },
  {
   "cell_type": "code",
   "execution_count": 301,
   "metadata": {},
   "outputs": [
    {
     "data": {
      "text/html": [
       "<div>\n",
       "<style scoped>\n",
       "    .dataframe tbody tr th:only-of-type {\n",
       "        vertical-align: middle;\n",
       "    }\n",
       "\n",
       "    .dataframe tbody tr th {\n",
       "        vertical-align: top;\n",
       "    }\n",
       "\n",
       "    .dataframe thead th {\n",
       "        text-align: right;\n",
       "    }\n",
       "</style>\n",
       "<table border=\"1\" class=\"dataframe\">\n",
       "  <thead>\n",
       "    <tr style=\"text-align: right;\">\n",
       "      <th></th>\n",
       "      <th>exp_id</th>\n",
       "      <th>exp_name</th>\n",
       "      <th>investigators</th>\n",
       "      <th>researchers</th>\n",
       "      <th>pr_value_lbl</th>\n",
       "    </tr>\n",
       "  </thead>\n",
       "  <tbody>\n",
       "    <tr>\n",
       "      <th>44</th>\n",
       "      <td>FR-FCM-ZZ2L</td>\n",
       "      <td>OMIP-014: 12-color HVTN ICS assay</td>\n",
       "      <td>Stephen DeRosa</td>\n",
       "      <td>Stephen DeRosa</td>\n",
       "      <td>CD8</td>\n",
       "    </tr>\n",
       "    <tr>\n",
       "      <th>56</th>\n",
       "      <td>FR-FCM-ZZ2L</td>\n",
       "      <td>OMIP-014: 12-color HVTN ICS assay</td>\n",
       "      <td>Stephen DeRosa</td>\n",
       "      <td>Stephen DeRosa</td>\n",
       "      <td>CD14</td>\n",
       "    </tr>\n",
       "    <tr>\n",
       "      <th>75</th>\n",
       "      <td>FR-FCM-ZZ2L</td>\n",
       "      <td>OMIP-014: 12-color HVTN ICS assay</td>\n",
       "      <td>Stephen DeRosa</td>\n",
       "      <td>Stephen DeRosa</td>\n",
       "      <td>CD4</td>\n",
       "    </tr>\n",
       "    <tr>\n",
       "      <th>109</th>\n",
       "      <td>FR-FCM-ZZ2L</td>\n",
       "      <td>OMIP-014: 12-color HVTN ICS assay</td>\n",
       "      <td>Stephen DeRosa</td>\n",
       "      <td>Stephen DeRosa</td>\n",
       "      <td>CD3</td>\n",
       "    </tr>\n",
       "    <tr>\n",
       "      <th>148</th>\n",
       "      <td>FR-FCM-ZZ2L</td>\n",
       "      <td>OMIP-014: 12-color HVTN ICS assay</td>\n",
       "      <td>Stephen DeRosa</td>\n",
       "      <td>Stephen DeRosa</td>\n",
       "      <td>TNFα</td>\n",
       "    </tr>\n",
       "  </tbody>\n",
       "</table>\n",
       "</div>"
      ],
      "text/plain": [
       "          exp_id                           exp_name   investigators  \\\n",
       "44   FR-FCM-ZZ2L  OMIP-014: 12-color HVTN ICS assay  Stephen DeRosa   \n",
       "56   FR-FCM-ZZ2L  OMIP-014: 12-color HVTN ICS assay  Stephen DeRosa   \n",
       "75   FR-FCM-ZZ2L  OMIP-014: 12-color HVTN ICS assay  Stephen DeRosa   \n",
       "109  FR-FCM-ZZ2L  OMIP-014: 12-color HVTN ICS assay  Stephen DeRosa   \n",
       "148  FR-FCM-ZZ2L  OMIP-014: 12-color HVTN ICS assay  Stephen DeRosa   \n",
       "\n",
       "        researchers pr_value_lbl  \n",
       "44   Stephen DeRosa          CD8  \n",
       "56   Stephen DeRosa         CD14  \n",
       "75   Stephen DeRosa          CD4  \n",
       "109  Stephen DeRosa          CD3  \n",
       "148  Stephen DeRosa         TNFα  "
      ]
     },
     "execution_count": 301,
     "metadata": {},
     "output_type": "execute_result"
    }
   ],
   "source": [
    "df_chl_ds_pm = df_chl_ds[mask].drop(['param', 'resolution'], axis=1).rename(columns={'candidate': 'pr_value_lbl'})\n",
    "df_chl_ds_pm.head()"
   ]
  },
  {
   "cell_type": "markdown",
   "metadata": {},
   "source": [
    "## CODEX"
   ]
  },
  {
   "cell_type": "code",
   "execution_count": 302,
   "metadata": {},
   "outputs": [
    {
     "data": {
      "text/html": [
       "<div>\n",
       "<style scoped>\n",
       "    .dataframe tbody tr th:only-of-type {\n",
       "        vertical-align: middle;\n",
       "    }\n",
       "\n",
       "    .dataframe tbody tr th {\n",
       "        vertical-align: top;\n",
       "    }\n",
       "\n",
       "    .dataframe thead th {\n",
       "        text-align: right;\n",
       "    }\n",
       "</style>\n",
       "<table border=\"1\" class=\"dataframe\">\n",
       "  <thead>\n",
       "    <tr style=\"text-align: right;\">\n",
       "      <th></th>\n",
       "      <th>pr_value_lbl</th>\n",
       "      <th>in_fr_primary</th>\n",
       "      <th>in_any_fr</th>\n",
       "      <th>in_pubmed</th>\n",
       "    </tr>\n",
       "  </thead>\n",
       "  <tbody>\n",
       "    <tr>\n",
       "      <th>0</th>\n",
       "      <td>COLLAGENIV</td>\n",
       "      <td>False</td>\n",
       "      <td>False</td>\n",
       "      <td>True</td>\n",
       "    </tr>\n",
       "    <tr>\n",
       "      <th>1</th>\n",
       "      <td>CD7</td>\n",
       "      <td>True</td>\n",
       "      <td>True</td>\n",
       "      <td>True</td>\n",
       "    </tr>\n",
       "    <tr>\n",
       "      <th>2</th>\n",
       "      <td>KI67</td>\n",
       "      <td>True</td>\n",
       "      <td>True</td>\n",
       "      <td>True</td>\n",
       "    </tr>\n",
       "    <tr>\n",
       "      <th>3</th>\n",
       "      <td>CD38</td>\n",
       "      <td>True</td>\n",
       "      <td>True</td>\n",
       "      <td>True</td>\n",
       "    </tr>\n",
       "    <tr>\n",
       "      <th>4</th>\n",
       "      <td>CD31</td>\n",
       "      <td>True</td>\n",
       "      <td>True</td>\n",
       "      <td>True</td>\n",
       "    </tr>\n",
       "    <tr>\n",
       "      <th>5</th>\n",
       "      <td>CD4</td>\n",
       "      <td>True</td>\n",
       "      <td>True</td>\n",
       "      <td>True</td>\n",
       "    </tr>\n",
       "    <tr>\n",
       "      <th>6</th>\n",
       "      <td>CD45</td>\n",
       "      <td>True</td>\n",
       "      <td>True</td>\n",
       "      <td>True</td>\n",
       "    </tr>\n",
       "    <tr>\n",
       "      <th>7</th>\n",
       "      <td>CD90</td>\n",
       "      <td>False</td>\n",
       "      <td>True</td>\n",
       "      <td>True</td>\n",
       "    </tr>\n",
       "    <tr>\n",
       "      <th>8</th>\n",
       "      <td>CD19</td>\n",
       "      <td>True</td>\n",
       "      <td>True</td>\n",
       "      <td>True</td>\n",
       "    </tr>\n",
       "    <tr>\n",
       "      <th>9</th>\n",
       "      <td>CD15</td>\n",
       "      <td>True</td>\n",
       "      <td>True</td>\n",
       "      <td>True</td>\n",
       "    </tr>\n",
       "    <tr>\n",
       "      <th>10</th>\n",
       "      <td>CD3</td>\n",
       "      <td>True</td>\n",
       "      <td>True</td>\n",
       "      <td>True</td>\n",
       "    </tr>\n",
       "    <tr>\n",
       "      <th>11</th>\n",
       "      <td>CD104</td>\n",
       "      <td>False</td>\n",
       "      <td>True</td>\n",
       "      <td>False</td>\n",
       "    </tr>\n",
       "    <tr>\n",
       "      <th>12</th>\n",
       "      <td>CD21</td>\n",
       "      <td>True</td>\n",
       "      <td>True</td>\n",
       "      <td>True</td>\n",
       "    </tr>\n",
       "    <tr>\n",
       "      <th>13</th>\n",
       "      <td>CD34</td>\n",
       "      <td>False</td>\n",
       "      <td>True</td>\n",
       "      <td>True</td>\n",
       "    </tr>\n",
       "    <tr>\n",
       "      <th>14</th>\n",
       "      <td>CD278</td>\n",
       "      <td>True</td>\n",
       "      <td>True</td>\n",
       "      <td>True</td>\n",
       "    </tr>\n",
       "    <tr>\n",
       "      <th>15</th>\n",
       "      <td>HLADR</td>\n",
       "      <td>True</td>\n",
       "      <td>True</td>\n",
       "      <td>True</td>\n",
       "    </tr>\n",
       "    <tr>\n",
       "      <th>16</th>\n",
       "      <td>CD22</td>\n",
       "      <td>False</td>\n",
       "      <td>True</td>\n",
       "      <td>True</td>\n",
       "    </tr>\n",
       "    <tr>\n",
       "      <th>17</th>\n",
       "      <td>CD279</td>\n",
       "      <td>True</td>\n",
       "      <td>True</td>\n",
       "      <td>True</td>\n",
       "    </tr>\n",
       "    <tr>\n",
       "      <th>18</th>\n",
       "      <td>CD8</td>\n",
       "      <td>True</td>\n",
       "      <td>True</td>\n",
       "      <td>True</td>\n",
       "    </tr>\n",
       "    <tr>\n",
       "      <th>19</th>\n",
       "      <td>CD40</td>\n",
       "      <td>True</td>\n",
       "      <td>True</td>\n",
       "      <td>True</td>\n",
       "    </tr>\n",
       "    <tr>\n",
       "      <th>20</th>\n",
       "      <td>CYTOKERATIN</td>\n",
       "      <td>False</td>\n",
       "      <td>False</td>\n",
       "      <td>False</td>\n",
       "    </tr>\n",
       "    <tr>\n",
       "      <th>21</th>\n",
       "      <td>CD9</td>\n",
       "      <td>False</td>\n",
       "      <td>True</td>\n",
       "      <td>True</td>\n",
       "    </tr>\n",
       "    <tr>\n",
       "      <th>22</th>\n",
       "      <td>PODOPLANIN</td>\n",
       "      <td>False</td>\n",
       "      <td>False</td>\n",
       "      <td>False</td>\n",
       "    </tr>\n",
       "    <tr>\n",
       "      <th>23</th>\n",
       "      <td>CD11C</td>\n",
       "      <td>True</td>\n",
       "      <td>True</td>\n",
       "      <td>True</td>\n",
       "    </tr>\n",
       "  </tbody>\n",
       "</table>\n",
       "</div>"
      ],
      "text/plain": [
       "   pr_value_lbl  in_fr_primary  in_any_fr  in_pubmed\n",
       "0    COLLAGENIV          False      False       True\n",
       "1           CD7           True       True       True\n",
       "2          KI67           True       True       True\n",
       "3          CD38           True       True       True\n",
       "4          CD31           True       True       True\n",
       "5           CD4           True       True       True\n",
       "6          CD45           True       True       True\n",
       "7          CD90          False       True       True\n",
       "8          CD19           True       True       True\n",
       "9          CD15           True       True       True\n",
       "10          CD3           True       True       True\n",
       "11        CD104          False       True      False\n",
       "12         CD21           True       True       True\n",
       "13         CD34          False       True       True\n",
       "14        CD278           True       True       True\n",
       "15        HLADR           True       True       True\n",
       "16         CD22          False       True       True\n",
       "17        CD279           True       True       True\n",
       "18          CD8           True       True       True\n",
       "19         CD40           True       True       True\n",
       "20  CYTOKERATIN          False      False      False\n",
       "21          CD9          False       True       True\n",
       "22   PODOPLANIN          False      False      False\n",
       "23        CD11C           True       True       True"
      ]
     },
     "execution_count": 302,
     "metadata": {},
     "output_type": "execute_result"
    }
   ],
   "source": [
    "pr_codex = [\n",
    "    'CollagenIV', 'CD7', 'Ki67', 'CD38', 'CD31', 'CD4', 'CD45', 'CD90', 'CD19', 'CD15', \n",
    "    'CD3', 'CD104', 'CD21', 'CD34', 'CD278', 'HLADR', 'CD22', 'CD279', 'CD8', 'CD40', \n",
    "    'cytokeratin', 'CD9', 'Podoplanin', 'CD11c'\n",
    "]\n",
    "\n",
    "# Summarize presence of CODEX markers in FlowRepository and PubMed data\n",
    "pd.DataFrame([\n",
    "    (\n",
    "        pr.upper(), \n",
    "        pr.upper() in df_chl_ds_pm['pr_value_lbl'].values, \n",
    "        pr.upper() in df_chl['param'].values,\n",
    "        pr.upper() in df_pr['value_lbl'].values\n",
    "    )\n",
    "    for pr in pr_codex\n",
    "], columns=['pr_value_lbl', 'in_fr_primary', 'in_any_fr', 'in_pubmed'])"
   ]
  },
  {
   "cell_type": "code",
   "execution_count": 303,
   "metadata": {},
   "outputs": [
    {
     "data": {
      "text/html": [
       "<div>\n",
       "<style scoped>\n",
       "    .dataframe tbody tr th:only-of-type {\n",
       "        vertical-align: middle;\n",
       "    }\n",
       "\n",
       "    .dataframe tbody tr th {\n",
       "        vertical-align: top;\n",
       "    }\n",
       "\n",
       "    .dataframe thead th {\n",
       "        text-align: right;\n",
       "    }\n",
       "</style>\n",
       "<table border=\"1\" class=\"dataframe\">\n",
       "  <thead>\n",
       "    <tr style=\"text-align: right;\">\n",
       "      <th></th>\n",
       "      <th>exp_id</th>\n",
       "      <th>exp_name</th>\n",
       "      <th>investigators</th>\n",
       "      <th>researchers</th>\n",
       "      <th>pr_value_lbl</th>\n",
       "    </tr>\n",
       "  </thead>\n",
       "  <tbody>\n",
       "    <tr>\n",
       "      <th>44</th>\n",
       "      <td>FR-FCM-ZZ2L</td>\n",
       "      <td>OMIP-014: 12-color HVTN ICS assay</td>\n",
       "      <td>Stephen DeRosa</td>\n",
       "      <td>Stephen DeRosa</td>\n",
       "      <td>CD8</td>\n",
       "    </tr>\n",
       "    <tr>\n",
       "      <th>56</th>\n",
       "      <td>FR-FCM-ZZ2L</td>\n",
       "      <td>OMIP-014: 12-color HVTN ICS assay</td>\n",
       "      <td>Stephen DeRosa</td>\n",
       "      <td>Stephen DeRosa</td>\n",
       "      <td>CD14</td>\n",
       "    </tr>\n",
       "    <tr>\n",
       "      <th>75</th>\n",
       "      <td>FR-FCM-ZZ2L</td>\n",
       "      <td>OMIP-014: 12-color HVTN ICS assay</td>\n",
       "      <td>Stephen DeRosa</td>\n",
       "      <td>Stephen DeRosa</td>\n",
       "      <td>CD4</td>\n",
       "    </tr>\n",
       "    <tr>\n",
       "      <th>109</th>\n",
       "      <td>FR-FCM-ZZ2L</td>\n",
       "      <td>OMIP-014: 12-color HVTN ICS assay</td>\n",
       "      <td>Stephen DeRosa</td>\n",
       "      <td>Stephen DeRosa</td>\n",
       "      <td>CD3</td>\n",
       "    </tr>\n",
       "    <tr>\n",
       "      <th>148</th>\n",
       "      <td>FR-FCM-ZZ2L</td>\n",
       "      <td>OMIP-014: 12-color HVTN ICS assay</td>\n",
       "      <td>Stephen DeRosa</td>\n",
       "      <td>Stephen DeRosa</td>\n",
       "      <td>TNFα</td>\n",
       "    </tr>\n",
       "  </tbody>\n",
       "</table>\n",
       "</div>"
      ],
      "text/plain": [
       "          exp_id                           exp_name   investigators  \\\n",
       "44   FR-FCM-ZZ2L  OMIP-014: 12-color HVTN ICS assay  Stephen DeRosa   \n",
       "56   FR-FCM-ZZ2L  OMIP-014: 12-color HVTN ICS assay  Stephen DeRosa   \n",
       "75   FR-FCM-ZZ2L  OMIP-014: 12-color HVTN ICS assay  Stephen DeRosa   \n",
       "109  FR-FCM-ZZ2L  OMIP-014: 12-color HVTN ICS assay  Stephen DeRosa   \n",
       "148  FR-FCM-ZZ2L  OMIP-014: 12-color HVTN ICS assay  Stephen DeRosa   \n",
       "\n",
       "        researchers pr_value_lbl  \n",
       "44   Stephen DeRosa          CD8  \n",
       "56   Stephen DeRosa         CD14  \n",
       "75   Stephen DeRosa          CD4  \n",
       "109  Stephen DeRosa          CD3  \n",
       "148  Stephen DeRosa         TNFα  "
      ]
     },
     "execution_count": 303,
     "metadata": {},
     "output_type": "execute_result"
    }
   ],
   "source": [
    "df_chl_ds_pm.head()"
   ]
  },
  {
   "cell_type": "code",
   "execution_count": 304,
   "metadata": {},
   "outputs": [
    {
     "data": {
      "text/html": [
       "<div>\n",
       "<style scoped>\n",
       "    .dataframe tbody tr th:only-of-type {\n",
       "        vertical-align: middle;\n",
       "    }\n",
       "\n",
       "    .dataframe tbody tr th {\n",
       "        vertical-align: top;\n",
       "    }\n",
       "\n",
       "    .dataframe thead th {\n",
       "        text-align: right;\n",
       "    }\n",
       "</style>\n",
       "<table border=\"1\" class=\"dataframe\">\n",
       "  <thead>\n",
       "    <tr style=\"text-align: right;\">\n",
       "      <th></th>\n",
       "      <th>exp_id</th>\n",
       "      <th>exp_name</th>\n",
       "      <th>investigators</th>\n",
       "      <th>researchers</th>\n",
       "      <th>pr_value_lbl</th>\n",
       "    </tr>\n",
       "  </thead>\n",
       "  <tbody>\n",
       "    <tr>\n",
       "      <th>342</th>\n",
       "      <td>CODEXH01</td>\n",
       "      <td>CODEX Human Panel 01</td>\n",
       "      <td>NaN</td>\n",
       "      <td>NaN</td>\n",
       "      <td>CD40</td>\n",
       "    </tr>\n",
       "    <tr>\n",
       "      <th>343</th>\n",
       "      <td>CODEXH01</td>\n",
       "      <td>CODEX Human Panel 01</td>\n",
       "      <td>NaN</td>\n",
       "      <td>NaN</td>\n",
       "      <td>CYTOKERATIN</td>\n",
       "    </tr>\n",
       "    <tr>\n",
       "      <th>344</th>\n",
       "      <td>CODEXH01</td>\n",
       "      <td>CODEX Human Panel 01</td>\n",
       "      <td>NaN</td>\n",
       "      <td>NaN</td>\n",
       "      <td>CD9</td>\n",
       "    </tr>\n",
       "    <tr>\n",
       "      <th>345</th>\n",
       "      <td>CODEXH01</td>\n",
       "      <td>CODEX Human Panel 01</td>\n",
       "      <td>NaN</td>\n",
       "      <td>NaN</td>\n",
       "      <td>PODOPLANIN</td>\n",
       "    </tr>\n",
       "    <tr>\n",
       "      <th>346</th>\n",
       "      <td>CODEXH01</td>\n",
       "      <td>CODEX Human Panel 01</td>\n",
       "      <td>NaN</td>\n",
       "      <td>NaN</td>\n",
       "      <td>CD11C</td>\n",
       "    </tr>\n",
       "  </tbody>\n",
       "</table>\n",
       "</div>"
      ],
      "text/plain": [
       "       exp_id              exp_name investigators researchers pr_value_lbl\n",
       "342  CODEXH01  CODEX Human Panel 01           NaN         NaN         CD40\n",
       "343  CODEXH01  CODEX Human Panel 01           NaN         NaN  CYTOKERATIN\n",
       "344  CODEXH01  CODEX Human Panel 01           NaN         NaN          CD9\n",
       "345  CODEXH01  CODEX Human Panel 01           NaN         NaN   PODOPLANIN\n",
       "346  CODEXH01  CODEX Human Panel 01           NaN         NaN        CD11C"
      ]
     },
     "execution_count": 304,
     "metadata": {},
     "output_type": "execute_result"
    }
   ],
   "source": [
    "df_chl_ds_pm_cx = pd.concat([\n",
    "    df_chl_ds_pm,\n",
    "    pd.DataFrame([\n",
    "        dict(exp_id='CODEXH01', exp_name='CODEX Human Panel 01', pr_value_lbl=pr.upper().strip())\n",
    "        for pr in pr_codex\n",
    "    ])\n",
    "], sort=True)[df_chl_ds_pm.columns.tolist()].reset_index(drop=True)\n",
    "assert len(df_chl_ds_pm_cx[df_chl_ds_pm_cx['exp_id']=='CODEXH01']) == len(pr_codex)\n",
    "df_chl_ds_pm_cx.tail()"
   ]
  },
  {
   "cell_type": "markdown",
   "metadata": {},
   "source": [
    "## Add Experiment/Dataset Label and Type"
   ]
  },
  {
   "cell_type": "code",
   "execution_count": 305,
   "metadata": {},
   "outputs": [
    {
     "data": {
      "text/plain": [
       "array(['OMIP:014', 'OMIP:016', 'OMIP:023', 'OMIP:021', 'OMIP:022',\n",
       "       'OMIP:024', 'OMIP:025', 'OMIP:030', 'OMIP:028', 'OMIP:035',\n",
       "       'OMIP:036', 'OMIP:037', 'CYTOF:FR-FCM-ZZTJ', 'CYTOF:FR-FCM-ZZTM',\n",
       "       'OMIP:039', 'OMIP:040', 'OMIP:043', 'OMIP:044', 'OMIP:047',\n",
       "       'CODEX:H01'], dtype=object)"
      ]
     },
     "execution_count": 305,
     "metadata": {},
     "output_type": "execute_result"
    }
   ],
   "source": [
    "def get_label(exp_id, exp_name):\n",
    "    if exp_name.startswith('OMIP'):\n",
    "        return exp_name.split(':')[0].replace('-', ':')\n",
    "    if exp_id in ['FR-FCM-ZZTJ', 'FR-FCM-ZZTM']: # Data from Wong et al Immunity  2016\n",
    "        return 'CYTOF:{}'.format(exp_id)\n",
    "    if 'CODEX' in exp_id:\n",
    "        return exp_id.replace('CODEX', 'CODEX:')\n",
    "    return None\n",
    "\n",
    "def get_type(exp_id, exp_name):\n",
    "    if exp_name.startswith('OMIP'):\n",
    "        return 'OMIP'\n",
    "    if exp_id in ['FR-FCM-ZZTJ', 'FR-FCM-ZZTM']: # Data from Wong et al Immunity  2016\n",
    "        return 'CYTOF'\n",
    "    if 'CODEX' in exp_id:\n",
    "        return 'CODEX'\n",
    "    return None\n",
    "\n",
    "df_chl_ds_pm_cx['exp_lbl'] = [get_label(r['exp_id'], r['exp_name']) for i, r in df_chl_ds_pm_cx.iterrows()]\n",
    "df_chl_ds_pm_cx['exp_typ'] = [get_type(r['exp_id'], r['exp_name']) for i, r in df_chl_ds_pm_cx.iterrows()]\n",
    "assert df_chl_ds_pm_cx['exp_lbl'].notnull().all()\n",
    "assert df_chl_ds_pm_cx['exp_typ'].notnull().all()\n",
    "df_chl_ds_pm_cx['exp_lbl'].unique()"
   ]
  },
  {
   "cell_type": "code",
   "execution_count": 306,
   "metadata": {},
   "outputs": [
    {
     "data": {
      "text/html": [
       "<div>\n",
       "<style scoped>\n",
       "    .dataframe tbody tr th:only-of-type {\n",
       "        vertical-align: middle;\n",
       "    }\n",
       "\n",
       "    .dataframe tbody tr th {\n",
       "        vertical-align: top;\n",
       "    }\n",
       "\n",
       "    .dataframe thead th {\n",
       "        text-align: right;\n",
       "    }\n",
       "</style>\n",
       "<table border=\"1\" class=\"dataframe\">\n",
       "  <thead>\n",
       "    <tr style=\"text-align: right;\">\n",
       "      <th></th>\n",
       "      <th>exp_lbl</th>\n",
       "      <th>exp_typ</th>\n",
       "      <th>ids</th>\n",
       "      <th>n</th>\n",
       "    </tr>\n",
       "  </thead>\n",
       "  <tbody>\n",
       "    <tr>\n",
       "      <th>4</th>\n",
       "      <td>OMIP:016</td>\n",
       "      <td>OMIP</td>\n",
       "      <td>FR-FCM-ZZ2T|FR-FCM-ZZ2V|FR-FCM-ZZ3Z|FR-FCM-ZZ3Y</td>\n",
       "      <td>4</td>\n",
       "    </tr>\n",
       "  </tbody>\n",
       "</table>\n",
       "</div>"
      ],
      "text/plain": [
       "    exp_lbl exp_typ                                              ids  n\n",
       "4  OMIP:016    OMIP  FR-FCM-ZZ2T|FR-FCM-ZZ2V|FR-FCM-ZZ3Z|FR-FCM-ZZ3Y  4"
      ]
     },
     "execution_count": 306,
     "metadata": {},
     "output_type": "execute_result"
    }
   ],
   "source": [
    "# Show any experiments where the label is the same across multiple ids (OMIP 16 was the only one at TOW)\n",
    "df_chl_ds_pm_cx[['exp_id', 'exp_lbl', 'exp_typ']].drop_duplicates()\\\n",
    "    .groupby(['exp_lbl', 'exp_typ'])\\\n",
    "    .apply(lambda g: pd.Series(dict(ids=g['exp_id'].str.cat(sep='|'), n=len(g))))\\\n",
    "    .reset_index().query('n > 1')"
   ]
  },
  {
   "cell_type": "code",
   "execution_count": 307,
   "metadata": {},
   "outputs": [
    {
     "data": {
      "text/plain": [
       "OMIP     20\n",
       "CYTOF     2\n",
       "CODEX     1\n",
       "Name: exp_typ, dtype: int64"
      ]
     },
     "execution_count": 307,
     "metadata": {},
     "output_type": "execute_result"
    }
   ],
   "source": [
    "df_chl_ds_pm_cx[['exp_id', 'exp_lbl', 'exp_typ']].drop_duplicates()['exp_typ'].value_counts()"
   ]
  },
  {
   "cell_type": "code",
   "execution_count": 308,
   "metadata": {},
   "outputs": [
    {
     "data": {
      "text/plain": [
       "OMIP:040              3\n",
       "OMIP:023              9\n",
       "OMIP:043              9\n",
       "OMIP:039              9\n",
       "OMIP:014             10\n",
       "OMIP:028             10\n",
       "OMIP:022             12\n",
       "OMIP:035             12\n",
       "OMIP:037             12\n",
       "OMIP:021             12\n",
       "OMIP:047             13\n",
       "OMIP:025             13\n",
       "OMIP:030             16\n",
       "OMIP:024             16\n",
       "OMIP:036             16\n",
       "CODEX:H01            24\n",
       "OMIP:044             26\n",
       "OMIP:016             30\n",
       "CYTOF:FR-FCM-ZZTJ    41\n",
       "CYTOF:FR-FCM-ZZTM    54\n",
       "Name: exp_lbl, dtype: int64"
      ]
     },
     "execution_count": 308,
     "metadata": {},
     "output_type": "execute_result"
    }
   ],
   "source": [
    "df_chl_ds_pm_cx['exp_lbl'].value_counts().sort_values()"
   ]
  },
  {
   "cell_type": "markdown",
   "metadata": {},
   "source": [
    "## Export"
   ]
  },
  {
   "cell_type": "code",
   "execution_count": 309,
   "metadata": {},
   "outputs": [
    {
     "name": "stdout",
     "output_type": "stream",
     "text": [
      "<class 'pandas.core.frame.DataFrame'>\n",
      "RangeIndex: 347 entries, 0 to 346\n",
      "Data columns (total 7 columns):\n",
      "exp_id           347 non-null object\n",
      "exp_name         347 non-null object\n",
      "investigators    323 non-null object\n",
      "researchers      323 non-null object\n",
      "pr_value_lbl     347 non-null object\n",
      "exp_lbl          347 non-null object\n",
      "exp_typ          347 non-null object\n",
      "dtypes: object(7)\n",
      "memory usage: 19.1+ KB\n"
     ]
    }
   ],
   "source": [
    "df_chl_ds_pm_cx.info()"
   ]
  },
  {
   "cell_type": "code",
   "execution_count": 276,
   "metadata": {},
   "outputs": [
    {
     "data": {
      "text/plain": [
       "'/Users/eczech/tmp/nlp/data/pubmed_annotated_proteins.csv'"
      ]
     },
     "execution_count": 276,
     "metadata": {},
     "output_type": "execute_result"
    }
   ],
   "source": [
    "path = osp.join(DATA_DIR, 'pubmed_annotated_proteins.csv')\n",
    "df_chl_ds_pm_cx.to_csv(path, index=False)\n",
    "path"
   ]
  }
 ],
 "metadata": {
  "kernelspec": {
   "display_name": "Python 3",
   "language": "python",
   "name": "python3"
  },
  "language_info": {
   "codemirror_mode": {
    "name": "ipython",
    "version": 3
   },
   "file_extension": ".py",
   "mimetype": "text/x-python",
   "name": "python",
   "nbconvert_exporter": "python",
   "pygments_lexer": "ipython3",
   "version": "3.6.7"
  }
 },
 "nbformat": 4,
 "nbformat_minor": 2
}
